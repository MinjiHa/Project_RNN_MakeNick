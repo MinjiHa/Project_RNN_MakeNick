{
  "nbformat": 4,
  "nbformat_minor": 0,
  "metadata": {
    "language_info": {
      "codemirror_mode": {
        "name": "ipython",
        "version": 3
      },
      "file_extension": ".py",
      "mimetype": "text/x-python",
      "name": "python",
      "nbconvert_exporter": "python",
      "pygments_lexer": "ipython3",
      "version": 3
    },
    "orig_nbformat": 2,
    "kernelspec": {
      "name": "python_defaultSpec_1596759608482",
      "display_name": "Python 3.7.7 64-bit"
    },
    "colab": {
      "name": "20200806_myRNNtest.ipynb",
      "provenance": [],
      "collapsed_sections": []
    },
    "accelerator": "GPU"
  },
  "cells": [
    {
      "cell_type": "code",
      "metadata": {
        "id": "ttDFiQvjxK4Z",
        "colab_type": "code",
        "colab": {}
      },
      "source": [
        "from keras.preprocessing.text import Tokenizer, text_to_word_sequence\n",
        "from keras.preprocessing.sequence import pad_sequences\n",
        "from keras.utils import to_categorical\n",
        "import numpy as np \n",
        "import pandas as pd\n",
        "from keras.models import Sequential\n",
        "from keras.layers import *\n",
        "from keras.callbacks import EarlyStopping"
      ],
      "execution_count": 77,
      "outputs": []
    },
    {
      "cell_type": "markdown",
      "metadata": {
        "id": "-FOCtlonxK4d",
        "colab_type": "text"
      },
      "source": [
        "# 영어닉네임 불러오기"
      ]
    },
    {
      "cell_type": "code",
      "metadata": {
        "id": "AIdH7onIxK4e",
        "colab_type": "code",
        "colab": {}
      },
      "source": [
        "# 전체 닉네임리스트 (글자딕셔너리 만들기 위해)\n",
        "df = pd.read_csv(\"/content/nick_english2.csv\")\n",
        "enick = list(df['닉네임'])"
      ],
      "execution_count": 78,
      "outputs": []
    },
    {
      "cell_type": "code",
      "metadata": {
        "id": "cySoYyR_xK4g",
        "colab_type": "code",
        "colab": {
          "base_uri": "https://localhost:8080/",
          "height": 215
        },
        "outputId": "219f7ec9-b6ae-44a2-f7b5-96c6057e27aa"
      },
      "source": [
        "enick[:11]"
      ],
      "execution_count": 79,
      "outputs": [
        {
          "output_type": "execute_result",
          "data": {
            "text/plain": [
              "['GABO',\n",
              " 'Boxster',\n",
              " 'mini',\n",
              " 'KKU',\n",
              " 'KORAIL',\n",
              " 'Malika',\n",
              " 'ryutaori',\n",
              " 'JJUNG',\n",
              " 'Limerick',\n",
              " 'JJ',\n",
              " 'moonlight']"
            ]
          },
          "metadata": {
            "tags": []
          },
          "execution_count": 79
        }
      ]
    },
    {
      "cell_type": "code",
      "metadata": {
        "id": "5CCZodmfxK4k",
        "colab_type": "code",
        "colab": {
          "base_uri": "https://localhost:8080/",
          "height": 35
        },
        "outputId": "85f845ad-950b-4464-fa1e-8e3922e0f314"
      },
      "source": [
        "len(enick) # 880"
      ],
      "execution_count": 80,
      "outputs": [
        {
          "output_type": "execute_result",
          "data": {
            "text/plain": [
              "880"
            ]
          },
          "metadata": {
            "tags": []
          },
          "execution_count": 80
        }
      ]
    },
    {
      "cell_type": "code",
      "metadata": {
        "id": "aaWx9zhlxK4m",
        "colab_type": "code",
        "colab": {
          "base_uri": "https://localhost:8080/",
          "height": 35
        },
        "outputId": "32150c14-ff19-4db6-f5ec-f684f017c30a"
      },
      "source": [
        "len(max(enick, key=len)) #20"
      ],
      "execution_count": 81,
      "outputs": [
        {
          "output_type": "execute_result",
          "data": {
            "text/plain": [
              "20"
            ]
          },
          "metadata": {
            "tags": []
          },
          "execution_count": 81
        }
      ]
    },
    {
      "cell_type": "code",
      "metadata": {
        "tags": [],
        "id": "xDLl5Z6fxK4o",
        "colab_type": "code",
        "colab": {}
      },
      "source": [
        "charSet = []\n",
        "for nick in knick:\n",
        "    charSet.extend(list(set(nick)))\n",
        "\n",
        "charSet = list(set(charSet)) # 중복제거\n",
        "charDic = {w:i+1 for i,w in enumerate(charSet)} # 글자딕셔너리 (글자:인덱스)\n",
        "numDic = {i+1:w for i,w in enumerate(charSet)} # 글자딕셔너리 (인덱스:글자)"
      ],
      "execution_count": 82,
      "outputs": []
    },
    {
      "cell_type": "code",
      "metadata": {
        "id": "bBc3-47nxK4r",
        "colab_type": "code",
        "colab": {}
      },
      "source": [
        "charsize = len(charSet) # 1071"
      ],
      "execution_count": 83,
      "outputs": []
    },
    {
      "cell_type": "code",
      "metadata": {
        "id": "BveLqLLGz3oA",
        "colab_type": "code",
        "colab": {
          "base_uri": "https://localhost:8080/",
          "height": 35
        },
        "outputId": "491110d7-defd-45e0-9515-911db956e8ed"
      },
      "source": [
        "charsize"
      ],
      "execution_count": 84,
      "outputs": [
        {
          "output_type": "execute_result",
          "data": {
            "text/plain": [
              "53"
            ]
          },
          "metadata": {
            "tags": []
          },
          "execution_count": 84
        }
      ]
    },
    {
      "cell_type": "markdown",
      "metadata": {
        "id": "ea98iUvpig4l",
        "colab_type": "text"
      },
      "source": [
        "# 순방향 학습모델을 위한 학습데이터 정제"
      ]
    },
    {
      "cell_type": "code",
      "metadata": {
        "id": "Y4wkAjUbxK4t",
        "colab_type": "code",
        "colab": {
          "base_uri": "https://localhost:8080/",
          "height": 215
        },
        "outputId": "c75c4f4b-aa7b-4027-e411-023386175921"
      },
      "source": [
        "# 단어 숫자화\n",
        "char_numlist = []\n",
        "for xStr in enick:\n",
        "    x = [charDic[c] for c in xStr]\n",
        "    char_numlist.append(x)\n",
        "char_numlist[:11]"
      ],
      "execution_count": 85,
      "outputs": [
        {
          "output_type": "execute_result",
          "data": {
            "text/plain": [
              "[[53, 39, 29, 48],\n",
              " [29, 34, 27, 30, 24, 8, 13],\n",
              " [25, 18, 35, 18],\n",
              " [52, 52, 6],\n",
              " [52, 48, 16, 39, 2, 26],\n",
              " [21, 31, 7, 18, 50, 31],\n",
              " [13, 45, 22, 24, 31, 34, 13, 18],\n",
              " [36, 36, 6, 3, 53],\n",
              " [26, 18, 25, 8, 13, 18, 41, 50],\n",
              " [36, 36],\n",
              " [25, 34, 34, 35, 7, 18, 44, 28, 24]]"
            ]
          },
          "metadata": {
            "tags": []
          },
          "execution_count": 85
        }
      ]
    },
    {
      "cell_type": "code",
      "metadata": {
        "id": "CTLBRflPxK40",
        "colab_type": "code",
        "colab": {
          "base_uri": "https://localhost:8080/",
          "height": 215
        },
        "outputId": "66eeac90-9393-49ed-be4b-316e67255f83"
      },
      "source": [
        "# 순차적 글자배열만들기\n",
        "nick_sequences = []\n",
        "for nick in enick: # 2580개 닉네임 , 968가지 단어 \n",
        "    encoded=[charDic[c] for c in nick]\n",
        "    for i in range(1, len(encoded)):\n",
        "        sequence=encoded[:i+1]\n",
        "        nick_sequences.append(sequence)\n",
        "nick_sequences[:11]"
      ],
      "execution_count": 86,
      "outputs": [
        {
          "output_type": "execute_result",
          "data": {
            "text/plain": [
              "[[53, 39],\n",
              " [53, 39, 29],\n",
              " [53, 39, 29, 48],\n",
              " [29, 34],\n",
              " [29, 34, 27],\n",
              " [29, 34, 27, 30],\n",
              " [29, 34, 27, 30, 24],\n",
              " [29, 34, 27, 30, 24, 8],\n",
              " [29, 34, 27, 30, 24, 8, 13],\n",
              " [25, 18],\n",
              " [25, 18, 35]]"
            ]
          },
          "metadata": {
            "tags": []
          },
          "execution_count": 86
        }
      ]
    },
    {
      "cell_type": "code",
      "metadata": {
        "tags": [],
        "id": "qBKMXIdwxK44",
        "colab_type": "code",
        "colab": {
          "base_uri": "https://localhost:8080/",
          "height": 107
        },
        "outputId": "32f14171-2f4a-4897-bc33-7e098c134ec3"
      },
      "source": [
        "# 패딩해주기 (최대길이20)\n",
        "sequences=pad_sequences(nick_sequences, maxlen=20, padding='pre')\n",
        "print(sequences[:5])"
      ],
      "execution_count": 87,
      "outputs": [
        {
          "output_type": "stream",
          "text": [
            "[[ 0  0  0  0  0  0  0  0  0  0  0  0  0  0  0  0  0  0 53 39]\n",
            " [ 0  0  0  0  0  0  0  0  0  0  0  0  0  0  0  0  0 53 39 29]\n",
            " [ 0  0  0  0  0  0  0  0  0  0  0  0  0  0  0  0 53 39 29 48]\n",
            " [ 0  0  0  0  0  0  0  0  0  0  0  0  0  0  0  0  0  0 29 34]\n",
            " [ 0  0  0  0  0  0  0  0  0  0  0  0  0  0  0  0  0 29 34 27]]\n"
          ],
          "name": "stdout"
        }
      ]
    },
    {
      "cell_type": "code",
      "metadata": {
        "id": "1efJ5kUcxK47",
        "colab_type": "code",
        "colab": {}
      },
      "source": [
        "# x,y데이터 나누기\n",
        "x = sequences[:,:-1]\n",
        "y = sequences[:,-1]"
      ],
      "execution_count": 88,
      "outputs": []
    },
    {
      "cell_type": "code",
      "metadata": {
        "tags": [],
        "id": "Tq5fuulGxK5A",
        "colab_type": "code",
        "colab": {
          "base_uri": "https://localhost:8080/",
          "height": 233
        },
        "outputId": "d492f0c5-6980-4f75-eb48-cbaf7c298b95"
      },
      "source": [
        "# x,y데이터 확인\n",
        "print(x[:11])\n",
        "print(y[:11])"
      ],
      "execution_count": 89,
      "outputs": [
        {
          "output_type": "stream",
          "text": [
            "[[ 0  0  0  0  0  0  0  0  0  0  0  0  0  0  0  0  0  0 53]\n",
            " [ 0  0  0  0  0  0  0  0  0  0  0  0  0  0  0  0  0 53 39]\n",
            " [ 0  0  0  0  0  0  0  0  0  0  0  0  0  0  0  0 53 39 29]\n",
            " [ 0  0  0  0  0  0  0  0  0  0  0  0  0  0  0  0  0  0 29]\n",
            " [ 0  0  0  0  0  0  0  0  0  0  0  0  0  0  0  0  0 29 34]\n",
            " [ 0  0  0  0  0  0  0  0  0  0  0  0  0  0  0  0 29 34 27]\n",
            " [ 0  0  0  0  0  0  0  0  0  0  0  0  0  0  0 29 34 27 30]\n",
            " [ 0  0  0  0  0  0  0  0  0  0  0  0  0  0 29 34 27 30 24]\n",
            " [ 0  0  0  0  0  0  0  0  0  0  0  0  0 29 34 27 30 24  8]\n",
            " [ 0  0  0  0  0  0  0  0  0  0  0  0  0  0  0  0  0  0 25]\n",
            " [ 0  0  0  0  0  0  0  0  0  0  0  0  0  0  0  0  0 25 18]]\n",
            "[39 29 48 34 27 30 24  8 13 18 35]\n"
          ],
          "name": "stdout"
        }
      ]
    },
    {
      "cell_type": "code",
      "metadata": {
        "id": "u1tZtmHbxK5E",
        "colab_type": "code",
        "colab": {
          "base_uri": "https://localhost:8080/",
          "height": 35
        },
        "outputId": "1afea7c3-f717-4a9a-8669-70f4ae04a9c6"
      },
      "source": [
        "x.shape"
      ],
      "execution_count": 90,
      "outputs": [
        {
          "output_type": "execute_result",
          "data": {
            "text/plain": [
              "(4832, 19)"
            ]
          },
          "metadata": {
            "tags": []
          },
          "execution_count": 90
        }
      ]
    },
    {
      "cell_type": "code",
      "metadata": {
        "id": "WN3cBNGjxK5H",
        "colab_type": "code",
        "colab": {
          "base_uri": "https://localhost:8080/",
          "height": 143
        },
        "outputId": "be955583-7be0-48c4-83cb-7e6cc933b18b"
      },
      "source": [
        "# y데이터 원핫인코딩\n",
        "y = to_categorical(y)\n",
        "y"
      ],
      "execution_count": 91,
      "outputs": [
        {
          "output_type": "execute_result",
          "data": {
            "text/plain": [
              "array([[0., 0., 0., ..., 0., 0., 0.],\n",
              "       [0., 0., 0., ..., 0., 0., 0.],\n",
              "       [0., 0., 0., ..., 0., 0., 0.],\n",
              "       ...,\n",
              "       [0., 0., 0., ..., 0., 0., 0.],\n",
              "       [0., 0., 0., ..., 0., 0., 0.],\n",
              "       [0., 0., 0., ..., 0., 0., 0.]], dtype=float32)"
            ]
          },
          "metadata": {
            "tags": []
          },
          "execution_count": 91
        }
      ]
    },
    {
      "cell_type": "code",
      "metadata": {
        "id": "G_kdDs3cxK5K",
        "colab_type": "code",
        "colab": {
          "base_uri": "https://localhost:8080/",
          "height": 35
        },
        "outputId": "346e2a3c-04fc-4cc8-edd8-fb850d02e77b"
      },
      "source": [
        "y.shape"
      ],
      "execution_count": 92,
      "outputs": [
        {
          "output_type": "execute_result",
          "data": {
            "text/plain": [
              "(4832, 54)"
            ]
          },
          "metadata": {
            "tags": []
          },
          "execution_count": 92
        }
      ]
    },
    {
      "cell_type": "code",
      "metadata": {
        "id": "z4s_R8SZxK5w",
        "colab_type": "code",
        "colab": {
          "base_uri": "https://localhost:8080/",
          "height": 35
        },
        "outputId": "84e7187b-91b5-4911-c1b4-ab3c96a70ff8"
      },
      "source": [
        "len(y[0]) # 패딩으로 사용하는 0과 charsize 1~53"
      ],
      "execution_count": 93,
      "outputs": [
        {
          "output_type": "execute_result",
          "data": {
            "text/plain": [
              "54"
            ]
          },
          "metadata": {
            "tags": []
          },
          "execution_count": 93
        }
      ]
    },
    {
      "cell_type": "markdown",
      "metadata": {
        "id": "yNVIOU4KisT4",
        "colab_type": "text"
      },
      "source": [
        "# 모델생성 및 학습"
      ]
    },
    {
      "cell_type": "code",
      "metadata": {
        "tags": [],
        "id": "-Nmx0SsuxK5z",
        "colab_type": "code",
        "colab": {
          "base_uri": "https://localhost:8080/",
          "height": 269
        },
        "outputId": "4152dcd4-5ba1-4c58-bc7a-e1e012c97903"
      },
      "source": [
        "##모델 생성\n",
        "model = Sequential()\n",
        "model.add(Embedding(54, 30, input_length=19)) \n",
        "model.add(LSTM(30*64))\n",
        "model.add(Dense(54, activation='softmax'))\n",
        "model.summary()"
      ],
      "execution_count": 94,
      "outputs": [
        {
          "output_type": "stream",
          "text": [
            "Model: \"sequential_4\"\n",
            "_________________________________________________________________\n",
            "Layer (type)                 Output Shape              Param #   \n",
            "=================================================================\n",
            "embedding_4 (Embedding)      (None, 19, 30)            1620      \n",
            "_________________________________________________________________\n",
            "lstm_4 (LSTM)                (None, 1920)              14983680  \n",
            "_________________________________________________________________\n",
            "dense_4 (Dense)              (None, 54)                103734    \n",
            "=================================================================\n",
            "Total params: 15,089,034\n",
            "Trainable params: 15,089,034\n",
            "Non-trainable params: 0\n",
            "_________________________________________________________________\n"
          ],
          "name": "stdout"
        }
      ]
    },
    {
      "cell_type": "code",
      "metadata": {
        "tags": [],
        "id": "RUJKNhZ3xK53",
        "colab_type": "code",
        "colab": {
          "base_uri": "https://localhost:8080/",
          "height": 1000
        },
        "outputId": "f9f4dd01-ca34-4aa0-9911-b43a828f1823"
      },
      "source": [
        "# 모델 컴파일\n",
        "model.compile(loss='categorical_crossentropy',\n",
        "              optimizer='adam',\n",
        "              metrics=['accuracy'])\n",
        "# 콜백함수 지정\n",
        "early_stopping = EarlyStopping(monitor='accuracy', min_delta=0.01, patience=5, mode='auto')\n",
        "\n",
        "# 모델 피팅\n",
        "model.fit(x, y, epochs=100, callbacks=[early_stopping])"
      ],
      "execution_count": 95,
      "outputs": [
        {
          "output_type": "stream",
          "text": [
            "Epoch 1/100\n",
            "151/151 [==============================] - 3s 19ms/step - loss: 3.5222 - accuracy: 0.0849\n",
            "Epoch 2/100\n",
            "151/151 [==============================] - 3s 19ms/step - loss: 3.2279 - accuracy: 0.1109\n",
            "Epoch 3/100\n",
            "151/151 [==============================] - 3s 19ms/step - loss: 3.0216 - accuracy: 0.1583\n",
            "Epoch 4/100\n",
            "151/151 [==============================] - 3s 19ms/step - loss: 2.9267 - accuracy: 0.1776\n",
            "Epoch 5/100\n",
            "151/151 [==============================] - 3s 19ms/step - loss: 2.8564 - accuracy: 0.1846\n",
            "Epoch 6/100\n",
            "151/151 [==============================] - 3s 19ms/step - loss: 2.8107 - accuracy: 0.1976\n",
            "Epoch 7/100\n",
            "151/151 [==============================] - 3s 19ms/step - loss: 2.7610 - accuracy: 0.2057\n",
            "Epoch 8/100\n",
            "151/151 [==============================] - 3s 19ms/step - loss: 2.7078 - accuracy: 0.2150\n",
            "Epoch 9/100\n",
            "151/151 [==============================] - 3s 19ms/step - loss: 2.6313 - accuracy: 0.2353\n",
            "Epoch 10/100\n",
            "151/151 [==============================] - 3s 19ms/step - loss: 2.5337 - accuracy: 0.2529\n",
            "Epoch 11/100\n",
            "151/151 [==============================] - 3s 19ms/step - loss: 2.4069 - accuracy: 0.2823\n",
            "Epoch 12/100\n",
            "151/151 [==============================] - 3s 19ms/step - loss: 2.2293 - accuracy: 0.3384\n",
            "Epoch 13/100\n",
            "151/151 [==============================] - 3s 19ms/step - loss: 1.9882 - accuracy: 0.3976\n",
            "Epoch 14/100\n",
            "151/151 [==============================] - 3s 19ms/step - loss: 1.7216 - accuracy: 0.4820\n",
            "Epoch 15/100\n",
            "151/151 [==============================] - 3s 19ms/step - loss: 1.4854 - accuracy: 0.5550\n",
            "Epoch 16/100\n",
            "151/151 [==============================] - 3s 19ms/step - loss: 1.3093 - accuracy: 0.6082\n",
            "Epoch 17/100\n",
            "151/151 [==============================] - 3s 19ms/step - loss: 1.1973 - accuracy: 0.6293\n",
            "Epoch 18/100\n",
            "151/151 [==============================] - 3s 19ms/step - loss: 1.1166 - accuracy: 0.6531\n",
            "Epoch 19/100\n",
            "151/151 [==============================] - 3s 19ms/step - loss: 1.0410 - accuracy: 0.6761\n",
            "Epoch 20/100\n",
            "151/151 [==============================] - 3s 19ms/step - loss: 0.9972 - accuracy: 0.6877\n",
            "Epoch 21/100\n",
            "151/151 [==============================] - 3s 19ms/step - loss: 0.9516 - accuracy: 0.7024\n",
            "Epoch 22/100\n",
            "151/151 [==============================] - 3s 19ms/step - loss: 0.9203 - accuracy: 0.7055\n",
            "Epoch 23/100\n",
            "151/151 [==============================] - 3s 19ms/step - loss: 0.8959 - accuracy: 0.7111\n",
            "Epoch 24/100\n",
            "151/151 [==============================] - 3s 19ms/step - loss: 0.8690 - accuracy: 0.7175\n",
            "Epoch 25/100\n",
            "151/151 [==============================] - 3s 19ms/step - loss: 0.8440 - accuracy: 0.7146\n",
            "Epoch 26/100\n",
            "151/151 [==============================] - 3s 19ms/step - loss: 0.8251 - accuracy: 0.7245\n",
            "Epoch 27/100\n",
            "151/151 [==============================] - 3s 19ms/step - loss: 0.8155 - accuracy: 0.7295\n",
            "Epoch 28/100\n",
            "151/151 [==============================] - 3s 19ms/step - loss: 0.8004 - accuracy: 0.7272\n",
            "Epoch 29/100\n",
            "151/151 [==============================] - 3s 19ms/step - loss: 0.7917 - accuracy: 0.7260\n",
            "Epoch 30/100\n",
            "151/151 [==============================] - 3s 19ms/step - loss: 0.7768 - accuracy: 0.7289\n",
            "Epoch 31/100\n",
            "151/151 [==============================] - 3s 19ms/step - loss: 0.7681 - accuracy: 0.7297\n",
            "Epoch 32/100\n",
            "151/151 [==============================] - 3s 19ms/step - loss: 0.7604 - accuracy: 0.7291\n"
          ],
          "name": "stdout"
        },
        {
          "output_type": "execute_result",
          "data": {
            "text/plain": [
              "<tensorflow.python.keras.callbacks.History at 0x7ff165d71e10>"
            ]
          },
          "metadata": {
            "tags": []
          },
          "execution_count": 95
        }
      ]
    },
    {
      "cell_type": "markdown",
      "metadata": {
        "id": "Z3RUndxnjBIW",
        "colab_type": "text"
      },
      "source": [
        "# 순방향모델 실행함수 정의"
      ]
    },
    {
      "cell_type": "code",
      "metadata": {
        "id": "bUHuqsPbuNcX",
        "colab_type": "code",
        "colab": {}
      },
      "source": [
        "# 모델실행 함수\n",
        "def sentence_generation(model, cw, n):\n",
        "    initWord = cw # 시작단어 \n",
        "    sentence = ''\n",
        "    for _ in range(n): # 10번 반복한다  _ :10번 반복 하는 동안 값을 받는 변수가 없다.\n",
        "        x = [charDic[c] for c in cw]\n",
        "        x = pad_sequences([x], maxlen=6, padding='pre')\n",
        "        # print(x) #[2] ->-[0 0 0 0 0 2]\n",
        "        result = np.argmax(model.predict(x), axis=-1)\n",
        "        # print(result) #[3] ==word_index[3]의 index\n",
        "        for i,w in enumerate(charSet):\n",
        "            if i+1==result[0]:\n",
        "              cw=cw+w\n",
        "              sentence = sentence+w\n",
        "              break\n",
        "    return initWord+sentence"
      ],
      "execution_count": 96,
      "outputs": []
    },
    {
      "cell_type": "markdown",
      "metadata": {
        "id": "7sics6SZhLz4",
        "colab_type": "text"
      },
      "source": [
        "# 순방향 모델 테스트 (입력값 뒷부분 텍스트 생성)"
      ]
    },
    {
      "cell_type": "code",
      "metadata": {
        "id": "g3dudE5TBtBD",
        "colab_type": "code",
        "colab": {
          "base_uri": "https://localhost:8080/",
          "height": 53
        },
        "outputId": "0d692e80-cf97-4d32-e58a-2c7411cbeee9"
      },
      "source": [
        "sentence_generation(model,'k', 3)"
      ],
      "execution_count": 98,
      "outputs": [
        {
          "output_type": "stream",
          "text": [
            "WARNING:tensorflow:Model was constructed with shape (None, 19) for input Tensor(\"embedding_4_input:0\", shape=(None, 19), dtype=float32), but it was called on an input with incompatible shape (None, 6).\n"
          ],
          "name": "stdout"
        },
        {
          "output_type": "execute_result",
          "data": {
            "application/vnd.google.colaboratory.intrinsic+json": {
              "type": "string"
            },
            "text/plain": [
              "'kire'"
            ]
          },
          "metadata": {
            "tags": []
          },
          "execution_count": 98
        }
      ]
    },
    {
      "cell_type": "code",
      "metadata": {
        "id": "STEhElra2Sgf",
        "colab_type": "code",
        "colab": {
          "base_uri": "https://localhost:8080/",
          "height": 35
        },
        "outputId": "4930cd61-62bc-4655-e0f1-0dcc45da9476"
      },
      "source": [
        "sentence_generation(model,'ming', 5)"
      ],
      "execution_count": 99,
      "outputs": [
        {
          "output_type": "execute_result",
          "data": {
            "application/vnd.google.colaboratory.intrinsic+json": {
              "type": "string"
            },
            "text/plain": [
              "'minghaply'"
            ]
          },
          "metadata": {
            "tags": []
          },
          "execution_count": 99
        }
      ]
    },
    {
      "cell_type": "code",
      "metadata": {
        "id": "eTaJcNzl2W_3",
        "colab_type": "code",
        "colab": {
          "base_uri": "https://localhost:8080/",
          "height": 35
        },
        "outputId": "ec9fd53d-b1a7-4ee0-8e68-da39e1ce4051"
      },
      "source": [
        "sentence_generation(model,'Min', 4)"
      ],
      "execution_count": 100,
      "outputs": [
        {
          "output_type": "execute_result",
          "data": {
            "application/vnd.google.colaboratory.intrinsic+json": {
              "type": "string"
            },
            "text/plain": [
              "'MinGiPu'"
            ]
          },
          "metadata": {
            "tags": []
          },
          "execution_count": 100
        }
      ]
    },
    {
      "cell_type": "code",
      "metadata": {
        "id": "H4ZwdYux2doI",
        "colab_type": "code",
        "colab": {
          "base_uri": "https://localhost:8080/",
          "height": 35
        },
        "outputId": "96c9f8d9-abae-42bf-e366-360e04427cce"
      },
      "source": [
        "sentence_generation(model,'Seul', 4)"
      ],
      "execution_count": 101,
      "outputs": [
        {
          "output_type": "execute_result",
          "data": {
            "application/vnd.google.colaboratory.intrinsic+json": {
              "type": "string"
            },
            "text/plain": [
              "'Seulkara'"
            ]
          },
          "metadata": {
            "tags": []
          },
          "execution_count": 101
        }
      ]
    },
    {
      "cell_type": "code",
      "metadata": {
        "id": "wTUo-SZp2hu-",
        "colab_type": "code",
        "colab": {
          "base_uri": "https://localhost:8080/",
          "height": 35
        },
        "outputId": "c72cbe9a-2212-41e0-8410-7b696ac077be"
      },
      "source": [
        "sentence_generation(model,'ch', 5)"
      ],
      "execution_count": 102,
      "outputs": [
        {
          "output_type": "execute_result",
          "data": {
            "application/vnd.google.colaboratory.intrinsic+json": {
              "type": "string"
            },
            "text/plain": [
              "'chochoc'"
            ]
          },
          "metadata": {
            "tags": []
          },
          "execution_count": 102
        }
      ]
    },
    {
      "cell_type": "code",
      "metadata": {
        "id": "EokhFfy82l6_",
        "colab_type": "code",
        "colab": {
          "base_uri": "https://localhost:8080/",
          "height": 35
        },
        "outputId": "7a9bbd56-cac1-4c6a-f379-462ee4cd3be1"
      },
      "source": [
        "sentence_generation(model,'woo', 7)"
      ],
      "execution_count": 103,
      "outputs": [
        {
          "output_type": "execute_result",
          "data": {
            "application/vnd.google.colaboratory.intrinsic+json": {
              "type": "string"
            },
            "text/plain": [
              "'woojaette '"
            ]
          },
          "metadata": {
            "tags": []
          },
          "execution_count": 103
        }
      ]
    },
    {
      "cell_type": "code",
      "metadata": {
        "id": "oJdce_kT2-6W",
        "colab_type": "code",
        "colab": {
          "base_uri": "https://localhost:8080/",
          "height": 35
        },
        "outputId": "4e6ff972-b9fd-4fc4-a738-98788a884cee"
      },
      "source": [
        "sentence_generation(model,'ki', 3)"
      ],
      "execution_count": 104,
      "outputs": [
        {
          "output_type": "execute_result",
          "data": {
            "application/vnd.google.colaboratory.intrinsic+json": {
              "type": "string"
            },
            "text/plain": [
              "'kiree'"
            ]
          },
          "metadata": {
            "tags": []
          },
          "execution_count": 104
        }
      ]
    },
    {
      "cell_type": "code",
      "metadata": {
        "id": "_ehCmWIr3FCe",
        "colab_type": "code",
        "colab": {
          "base_uri": "https://localhost:8080/",
          "height": 35
        },
        "outputId": "b2ea3552-d785-4627-bcc8-c0fc6faef8a7"
      },
      "source": [
        "sentence_generation(model,'jung', 5)"
      ],
      "execution_count": 105,
      "outputs": [
        {
          "output_type": "execute_result",
          "data": {
            "application/vnd.google.colaboratory.intrinsic+json": {
              "type": "string"
            },
            "text/plain": [
              "'junghappy'"
            ]
          },
          "metadata": {
            "tags": []
          },
          "execution_count": 105
        }
      ]
    },
    {
      "cell_type": "code",
      "metadata": {
        "id": "N_4EO2NRXTU5",
        "colab_type": "code",
        "colab": {
          "base_uri": "https://localhost:8080/",
          "height": 35
        },
        "outputId": "61747c5b-9438-4f56-98a0-766ce3f106ce"
      },
      "source": [
        "sentence_generation(model,'alpo', 5)"
      ],
      "execution_count": 106,
      "outputs": [
        {
          "output_type": "execute_result",
          "data": {
            "application/vnd.google.colaboratory.intrinsic+json": {
              "type": "string"
            },
            "text/plain": [
              "'alpoatore'"
            ]
          },
          "metadata": {
            "tags": []
          },
          "execution_count": 106
        }
      ]
    },
    {
      "cell_type": "markdown",
      "metadata": {
        "id": "G_xEYMsRYGmT",
        "colab_type": "text"
      },
      "source": [
        "# 역방향 학습모델을 위한 학습데이터 정제"
      ]
    },
    {
      "cell_type": "code",
      "metadata": {
        "id": "wgIxExAHYrJg",
        "colab_type": "code",
        "colab": {
          "base_uri": "https://localhost:8080/",
          "height": 215
        },
        "outputId": "9d04dc9d-3be6-453d-e5dd-7df6bbf82aaf"
      },
      "source": [
        "# 순차적 글자배열만들기\n",
        "rev_sequences = []\n",
        "for nick in enick: # 2580개 닉네임 , 968가지 단어 \n",
        "    encoded=[charDic[c] for c in nick] \n",
        "    for i in range(1, len(encoded)):\n",
        "        sequence=encoded[:i+1]\n",
        "        rev_sequences.append(sequence)\n",
        "rev_sequences[:11]"
      ],
      "execution_count": 107,
      "outputs": [
        {
          "output_type": "execute_result",
          "data": {
            "text/plain": [
              "[[53, 39],\n",
              " [53, 39, 29],\n",
              " [53, 39, 29, 48],\n",
              " [29, 34],\n",
              " [29, 34, 27],\n",
              " [29, 34, 27, 30],\n",
              " [29, 34, 27, 30, 24],\n",
              " [29, 34, 27, 30, 24, 8],\n",
              " [29, 34, 27, 30, 24, 8, 13],\n",
              " [25, 18],\n",
              " [25, 18, 35]]"
            ]
          },
          "metadata": {
            "tags": []
          },
          "execution_count": 107
        }
      ]
    },
    {
      "cell_type": "code",
      "metadata": {
        "id": "CouLZPX2ZAIA",
        "colab_type": "code",
        "colab": {
          "base_uri": "https://localhost:8080/",
          "height": 107
        },
        "outputId": "8ad7f0b3-7742-43e9-9748-e0b6cfea7043"
      },
      "source": [
        "# 패딩해주기 (최대길이20)\n",
        "sequences=pad_sequences(nick_sequences, maxlen=20, padding='pre')\n",
        "print(sequences[:5])"
      ],
      "execution_count": 108,
      "outputs": [
        {
          "output_type": "stream",
          "text": [
            "[[ 0  0  0  0  0  0  0  0  0  0  0  0  0  0  0  0  0  0 53 39]\n",
            " [ 0  0  0  0  0  0  0  0  0  0  0  0  0  0  0  0  0 53 39 29]\n",
            " [ 0  0  0  0  0  0  0  0  0  0  0  0  0  0  0  0 53 39 29 48]\n",
            " [ 0  0  0  0  0  0  0  0  0  0  0  0  0  0  0  0  0  0 29 34]\n",
            " [ 0  0  0  0  0  0  0  0  0  0  0  0  0  0  0  0  0 29 34 27]]\n"
          ],
          "name": "stdout"
        }
      ]
    },
    {
      "cell_type": "code",
      "metadata": {
        "id": "dgJTue3bZWzQ",
        "colab_type": "code",
        "colab": {}
      },
      "source": [
        "# x,y데이터 나누기\n",
        "x = sequences[:,:-1]\n",
        "y = sequences[:,-1]"
      ],
      "execution_count": 109,
      "outputs": []
    },
    {
      "cell_type": "code",
      "metadata": {
        "id": "YWBytao-Z1Yp",
        "colab_type": "code",
        "colab": {
          "base_uri": "https://localhost:8080/",
          "height": 233
        },
        "outputId": "cdf5f92a-4ee5-48b0-dc17-5ef5f096c5e6"
      },
      "source": [
        "# x,y데이터 확인\n",
        "print(x[:11])\n",
        "print(y[:11])"
      ],
      "execution_count": 110,
      "outputs": [
        {
          "output_type": "stream",
          "text": [
            "[[ 0  0  0  0  0  0  0  0  0  0  0  0  0  0  0  0  0  0 53]\n",
            " [ 0  0  0  0  0  0  0  0  0  0  0  0  0  0  0  0  0 53 39]\n",
            " [ 0  0  0  0  0  0  0  0  0  0  0  0  0  0  0  0 53 39 29]\n",
            " [ 0  0  0  0  0  0  0  0  0  0  0  0  0  0  0  0  0  0 29]\n",
            " [ 0  0  0  0  0  0  0  0  0  0  0  0  0  0  0  0  0 29 34]\n",
            " [ 0  0  0  0  0  0  0  0  0  0  0  0  0  0  0  0 29 34 27]\n",
            " [ 0  0  0  0  0  0  0  0  0  0  0  0  0  0  0 29 34 27 30]\n",
            " [ 0  0  0  0  0  0  0  0  0  0  0  0  0  0 29 34 27 30 24]\n",
            " [ 0  0  0  0  0  0  0  0  0  0  0  0  0 29 34 27 30 24  8]\n",
            " [ 0  0  0  0  0  0  0  0  0  0  0  0  0  0  0  0  0  0 25]\n",
            " [ 0  0  0  0  0  0  0  0  0  0  0  0  0  0  0  0  0 25 18]]\n",
            "[39 29 48 34 27 30 24  8 13 18 35]\n"
          ],
          "name": "stdout"
        }
      ]
    },
    {
      "cell_type": "code",
      "metadata": {
        "id": "6lWF6LpFZ7yB",
        "colab_type": "code",
        "colab": {
          "base_uri": "https://localhost:8080/",
          "height": 143
        },
        "outputId": "ddaa0ead-65d6-4d60-e45b-1909ca906faf"
      },
      "source": [
        "# y데이터 원핫인코딩\n",
        "y = to_categorical(y)\n",
        "y"
      ],
      "execution_count": 111,
      "outputs": [
        {
          "output_type": "execute_result",
          "data": {
            "text/plain": [
              "array([[0., 0., 0., ..., 0., 0., 0.],\n",
              "       [0., 0., 0., ..., 0., 0., 0.],\n",
              "       [0., 0., 0., ..., 0., 0., 0.],\n",
              "       ...,\n",
              "       [0., 0., 0., ..., 0., 0., 0.],\n",
              "       [0., 0., 0., ..., 0., 0., 0.],\n",
              "       [0., 0., 0., ..., 0., 0., 0.]], dtype=float32)"
            ]
          },
          "metadata": {
            "tags": []
          },
          "execution_count": 111
        }
      ]
    },
    {
      "cell_type": "code",
      "metadata": {
        "id": "Vq5L-ukVaLlh",
        "colab_type": "code",
        "colab": {
          "base_uri": "https://localhost:8080/",
          "height": 35
        },
        "outputId": "3b1c6313-48a3-4086-b1c7-e4fe80f582d5"
      },
      "source": [
        "len(y[0]) # 패딩으로 사용하는 0과 charsize 1~53"
      ],
      "execution_count": 112,
      "outputs": [
        {
          "output_type": "execute_result",
          "data": {
            "text/plain": [
              "54"
            ]
          },
          "metadata": {
            "tags": []
          },
          "execution_count": 112
        }
      ]
    },
    {
      "cell_type": "markdown",
      "metadata": {
        "id": "Own1oIZAjIgv",
        "colab_type": "text"
      },
      "source": [
        "# 모델생성 및 학습"
      ]
    },
    {
      "cell_type": "code",
      "metadata": {
        "id": "bdQyztaiaVgw",
        "colab_type": "code",
        "colab": {
          "base_uri": "https://localhost:8080/",
          "height": 269
        },
        "outputId": "43c16841-5379-4afc-f9b8-c2e6e9c8b1a5"
      },
      "source": [
        "## 역방향 학습 모델 생성\n",
        "model2 = Sequential()\n",
        "model2.add(Embedding(54, 30, input_length=19)) \n",
        "model2.add(LSTM(30*64))\n",
        "model2.add(Dense(54, activation='softmax'))\n",
        "model2.summary()"
      ],
      "execution_count": 113,
      "outputs": [
        {
          "output_type": "stream",
          "text": [
            "Model: \"sequential_5\"\n",
            "_________________________________________________________________\n",
            "Layer (type)                 Output Shape              Param #   \n",
            "=================================================================\n",
            "embedding_5 (Embedding)      (None, 19, 30)            1620      \n",
            "_________________________________________________________________\n",
            "lstm_5 (LSTM)                (None, 1920)              14983680  \n",
            "_________________________________________________________________\n",
            "dense_5 (Dense)              (None, 54)                103734    \n",
            "=================================================================\n",
            "Total params: 15,089,034\n",
            "Trainable params: 15,089,034\n",
            "Non-trainable params: 0\n",
            "_________________________________________________________________\n"
          ],
          "name": "stdout"
        }
      ]
    },
    {
      "cell_type": "code",
      "metadata": {
        "id": "MZXpyvDWaaUI",
        "colab_type": "code",
        "colab": {
          "base_uri": "https://localhost:8080/",
          "height": 1000
        },
        "outputId": "f4547253-0371-4589-8e0f-76b31caa485b"
      },
      "source": [
        "# 모델 컴파일\n",
        "model2.compile(loss='categorical_crossentropy',\n",
        "              optimizer='adam',\n",
        "              metrics=['accuracy'])\n",
        "# 콜백함수 지정\n",
        "early_stopping = EarlyStopping(monitor='accuracy', min_delta=0.01, patience=5, mode='auto')\n",
        "\n",
        "# 모델 피팅\n",
        "model2.fit(x, y, epochs=100, callbacks=[early_stopping])"
      ],
      "execution_count": 114,
      "outputs": [
        {
          "output_type": "stream",
          "text": [
            "Epoch 1/100\n",
            "151/151 [==============================] - 3s 19ms/step - loss: 3.5456 - accuracy: 0.0824\n",
            "Epoch 2/100\n",
            "151/151 [==============================] - 3s 19ms/step - loss: 3.1686 - accuracy: 0.1242\n",
            "Epoch 3/100\n",
            "151/151 [==============================] - 3s 19ms/step - loss: 2.9847 - accuracy: 0.1637\n",
            "Epoch 4/100\n",
            "151/151 [==============================] - 3s 19ms/step - loss: 2.9028 - accuracy: 0.1776\n",
            "Epoch 5/100\n",
            "151/151 [==============================] - 3s 19ms/step - loss: 2.8321 - accuracy: 0.1974\n",
            "Epoch 6/100\n",
            "151/151 [==============================] - 3s 19ms/step - loss: 2.7822 - accuracy: 0.2055\n",
            "Epoch 7/100\n",
            "151/151 [==============================] - 3s 19ms/step - loss: 2.7239 - accuracy: 0.2183\n",
            "Epoch 8/100\n",
            "151/151 [==============================] - 3s 19ms/step - loss: 2.6526 - accuracy: 0.2295\n",
            "Epoch 9/100\n",
            "151/151 [==============================] - 3s 19ms/step - loss: 2.5491 - accuracy: 0.2512\n",
            "Epoch 10/100\n",
            "151/151 [==============================] - 3s 19ms/step - loss: 2.4266 - accuracy: 0.2846\n",
            "Epoch 11/100\n",
            "151/151 [==============================] - 3s 19ms/step - loss: 2.2339 - accuracy: 0.3288\n",
            "Epoch 12/100\n",
            "151/151 [==============================] - 3s 19ms/step - loss: 2.0231 - accuracy: 0.3953\n",
            "Epoch 13/100\n",
            "151/151 [==============================] - 3s 19ms/step - loss: 1.7707 - accuracy: 0.4716\n",
            "Epoch 14/100\n",
            "151/151 [==============================] - 3s 19ms/step - loss: 1.5495 - accuracy: 0.5389\n",
            "Epoch 15/100\n",
            "151/151 [==============================] - 3s 19ms/step - loss: 1.3811 - accuracy: 0.5760\n",
            "Epoch 16/100\n",
            "151/151 [==============================] - 3s 19ms/step - loss: 1.2479 - accuracy: 0.6178\n",
            "Epoch 17/100\n",
            "151/151 [==============================] - 3s 19ms/step - loss: 1.1635 - accuracy: 0.6424\n",
            "Epoch 18/100\n",
            "151/151 [==============================] - 3s 19ms/step - loss: 1.0985 - accuracy: 0.6623\n",
            "Epoch 19/100\n",
            "151/151 [==============================] - 3s 19ms/step - loss: 1.0337 - accuracy: 0.6765\n",
            "Epoch 20/100\n",
            "151/151 [==============================] - 3s 19ms/step - loss: 0.9891 - accuracy: 0.6906\n",
            "Epoch 21/100\n",
            "151/151 [==============================] - 3s 19ms/step - loss: 0.9539 - accuracy: 0.7001\n",
            "Epoch 22/100\n",
            "151/151 [==============================] - 3s 19ms/step - loss: 0.9235 - accuracy: 0.7032\n",
            "Epoch 23/100\n",
            "151/151 [==============================] - 3s 19ms/step - loss: 0.8956 - accuracy: 0.7032\n",
            "Epoch 24/100\n",
            "151/151 [==============================] - 3s 19ms/step - loss: 0.8726 - accuracy: 0.7125\n",
            "Epoch 25/100\n",
            "151/151 [==============================] - 3s 19ms/step - loss: 0.8424 - accuracy: 0.7229\n",
            "Epoch 26/100\n",
            "151/151 [==============================] - 3s 19ms/step - loss: 0.8309 - accuracy: 0.7233\n",
            "Epoch 27/100\n",
            "151/151 [==============================] - 3s 19ms/step - loss: 0.8191 - accuracy: 0.7260\n",
            "Epoch 28/100\n",
            "151/151 [==============================] - 3s 19ms/step - loss: 0.8040 - accuracy: 0.7245\n",
            "Epoch 29/100\n",
            "151/151 [==============================] - 3s 19ms/step - loss: 0.7885 - accuracy: 0.7279\n",
            "Epoch 30/100\n",
            "151/151 [==============================] - 3s 19ms/step - loss: 0.7841 - accuracy: 0.7303\n"
          ],
          "name": "stdout"
        },
        {
          "output_type": "execute_result",
          "data": {
            "text/plain": [
              "<tensorflow.python.keras.callbacks.History at 0x7ff096adcfd0>"
            ]
          },
          "metadata": {
            "tags": []
          },
          "execution_count": 114
        }
      ]
    },
    {
      "cell_type": "markdown",
      "metadata": {
        "id": "vge5ZNpyjN9_",
        "colab_type": "text"
      },
      "source": [
        "# 역방향 학습모델 실행 함수 정의"
      ]
    },
    {
      "cell_type": "code",
      "metadata": {
        "id": "duozNyLpbTtR",
        "colab_type": "code",
        "colab": {}
      },
      "source": [
        "# 역방향 학습모델 실행 함수\n",
        "def sentence_generation2(model, cw, n):\n",
        "    initWord = cw # 시작단어 \n",
        "    sentence = ''\n",
        "    for _ in range(n): # 10번 반복한다  _ :10번 반복 하는 동안 값을 받는 변수가 없다.\n",
        "        x = [charDic[c] for c in cw]\n",
        "        x.reverse()\n",
        "        x = pad_sequences([x], maxlen=6, padding='pre')\n",
        "        # print(x) #[2] ->-[0 0 0 0 0 2]\n",
        "        result = np.argmax(model.predict(x), axis=-1)\n",
        "        # print(result) #[3] ==word_index[3]의 index\n",
        "        for i,w in enumerate(charSet):\n",
        "            if i+1==result[0]:\n",
        "              cw=cw+w\n",
        "              sentence = sentence+w\n",
        "              break\n",
        "    return sentence[::-1]"
      ],
      "execution_count": 126,
      "outputs": []
    },
    {
      "cell_type": "markdown",
      "metadata": {
        "id": "ijSp_7tug_PZ",
        "colab_type": "text"
      },
      "source": [
        "# 역방향 모델 테스트 (입력값 앞부분 텍스트 생성)"
      ]
    },
    {
      "cell_type": "code",
      "metadata": {
        "id": "w5x-GhOXbWmn",
        "colab_type": "code",
        "colab": {
          "base_uri": "https://localhost:8080/",
          "height": 53
        },
        "outputId": "a109d458-3830-4ad4-d7b2-db9daa296d9e"
      },
      "source": [
        "# 모델, 입력값, 입력값에 연결될 출력값 길이\n",
        "sentence_generation2(model2,'ming', 3)"
      ],
      "execution_count": 116,
      "outputs": [
        {
          "output_type": "stream",
          "text": [
            "WARNING:tensorflow:Model was constructed with shape (None, 19) for input Tensor(\"embedding_5_input:0\", shape=(None, 19), dtype=float32), but it was called on an input with incompatible shape (None, 6).\n"
          ],
          "name": "stdout"
        },
        {
          "output_type": "execute_result",
          "data": {
            "application/vnd.google.colaboratory.intrinsic+json": {
              "type": "string"
            },
            "text/plain": [
              "'teeming'"
            ]
          },
          "metadata": {
            "tags": []
          },
          "execution_count": 116
        }
      ]
    },
    {
      "cell_type": "code",
      "metadata": {
        "id": "klTgouXzbwkX",
        "colab_type": "code",
        "colab": {
          "base_uri": "https://localhost:8080/",
          "height": 35
        },
        "outputId": "b191f229-009f-4ed0-ab5f-7cf4efcdc627"
      },
      "source": [
        "sentence_generation2(model2,'ing', 4)"
      ],
      "execution_count": 117,
      "outputs": [
        {
          "output_type": "execute_result",
          "data": {
            "application/vnd.google.colaboratory.intrinsic+json": {
              "type": "string"
            },
            "text/plain": [
              "'xnnning'"
            ]
          },
          "metadata": {
            "tags": []
          },
          "execution_count": 117
        }
      ]
    },
    {
      "cell_type": "code",
      "metadata": {
        "id": "RqfhmUxUb2Rg",
        "colab_type": "code",
        "colab": {
          "base_uri": "https://localhost:8080/",
          "height": 35
        },
        "outputId": "4fc4727e-38ae-4b65-fd7c-0403eb25d9a6"
      },
      "source": [
        "sentence_generation2(model2,'k', 8)"
      ],
      "execution_count": 118,
      "outputs": [
        {
          "output_type": "execute_result",
          "data": {
            "application/vnd.google.colaboratory.intrinsic+json": {
              "type": "string"
            },
            "text/plain": [
              "'mmmnnY ik'"
            ]
          },
          "metadata": {
            "tags": []
          },
          "execution_count": 118
        }
      ]
    },
    {
      "cell_type": "code",
      "metadata": {
        "id": "4Z11FF2WcJmf",
        "colab_type": "code",
        "colab": {
          "base_uri": "https://localhost:8080/",
          "height": 35
        },
        "outputId": "d480887d-9867-4637-f53e-337d5d76a8cf"
      },
      "source": [
        "sentence_generation2(model2,'alpo', 5)"
      ],
      "execution_count": 119,
      "outputs": [
        {
          "output_type": "execute_result",
          "data": {
            "application/vnd.google.colaboratory.intrinsic+json": {
              "type": "string"
            },
            "text/plain": [
              "'yyygealpo'"
            ]
          },
          "metadata": {
            "tags": []
          },
          "execution_count": 119
        }
      ]
    },
    {
      "cell_type": "markdown",
      "metadata": {
        "id": "xyCpLpq4gu1n",
        "colab_type": "text"
      },
      "source": [
        "# 모델 2개를 합쳐서 닉네임 자동생성하기 (입력값의 앞뒤로 텍스트 생성하는 기능)"
      ]
    },
    {
      "cell_type": "code",
      "metadata": {
        "id": "JDwPTrUKc8SP",
        "colab_type": "code",
        "colab": {}
      },
      "source": [
        "def engNick(keyword,front,back):\n",
        "  return sentence_generation2(model2,keyword, front) + sentence_generation(model,keyword, back)"
      ],
      "execution_count": 130,
      "outputs": []
    },
    {
      "cell_type": "code",
      "metadata": {
        "id": "8pUlKmkedkuZ",
        "colab_type": "code",
        "colab": {
          "base_uri": "https://localhost:8080/",
          "height": 35
        },
        "outputId": "689e5017-769e-4aae-d715-5d176705baa8"
      },
      "source": [
        "engNick('ing',4,2)"
      ],
      "execution_count": 131,
      "outputs": [
        {
          "output_type": "execute_result",
          "data": {
            "application/vnd.google.colaboratory.intrinsic+json": {
              "type": "string"
            },
            "text/plain": [
              "'xnnningBo'"
            ]
          },
          "metadata": {
            "tags": []
          },
          "execution_count": 131
        }
      ]
    },
    {
      "cell_type": "code",
      "metadata": {
        "id": "m-KP36-9fxSw",
        "colab_type": "code",
        "colab": {
          "base_uri": "https://localhost:8080/",
          "height": 35
        },
        "outputId": "37b2c07a-1e4a-4fdb-bbf9-01e071dd52eb"
      },
      "source": [
        "engNick('jung',2,6)"
      ],
      "execution_count": 133,
      "outputs": [
        {
          "output_type": "execute_result",
          "data": {
            "application/vnd.google.colaboratory.intrinsic+json": {
              "type": "string"
            },
            "text/plain": [
              "'eejunghappyu'"
            ]
          },
          "metadata": {
            "tags": []
          },
          "execution_count": 133
        }
      ]
    },
    {
      "cell_type": "code",
      "metadata": {
        "id": "exEpy-FigDNe",
        "colab_type": "code",
        "colab": {
          "base_uri": "https://localhost:8080/",
          "height": 35
        },
        "outputId": "fab3647a-270f-4323-b3df-bf1fdc0a663e"
      },
      "source": [
        "engNick('rano',2,6)"
      ],
      "execution_count": 134,
      "outputs": [
        {
          "output_type": "execute_result",
          "data": {
            "application/vnd.google.colaboratory.intrinsic+json": {
              "type": "string"
            },
            "text/plain": [
              "'ooranooming '"
            ]
          },
          "metadata": {
            "tags": []
          },
          "execution_count": 134
        }
      ]
    },
    {
      "cell_type": "code",
      "metadata": {
        "id": "1Urp-mvCgG8-",
        "colab_type": "code",
        "colab": {
          "base_uri": "https://localhost:8080/",
          "height": 35
        },
        "outputId": "3fe1cdd8-c0f4-40aa-dbd9-a5b9d32a279e"
      },
      "source": [
        "engNick('Seul',0,6)"
      ],
      "execution_count": 137,
      "outputs": [
        {
          "output_type": "execute_result",
          "data": {
            "application/vnd.google.colaboratory.intrinsic+json": {
              "type": "string"
            },
            "text/plain": [
              "'Seulkaratt'"
            ]
          },
          "metadata": {
            "tags": []
          },
          "execution_count": 137
        }
      ]
    },
    {
      "cell_type": "code",
      "metadata": {
        "id": "4MtlIeLugPT3",
        "colab_type": "code",
        "colab": {
          "base_uri": "https://localhost:8080/",
          "height": 35
        },
        "outputId": "c905db17-36a0-4425-d4db-e86a1fde5277"
      },
      "source": [
        "engNick('alpo',2,6)"
      ],
      "execution_count": 138,
      "outputs": [
        {
          "output_type": "execute_result",
          "data": {
            "application/vnd.google.colaboratory.intrinsic+json": {
              "type": "string"
            },
            "text/plain": [
              "'gealpoatored'"
            ]
          },
          "metadata": {
            "tags": []
          },
          "execution_count": 138
        }
      ]
    },
    {
      "cell_type": "code",
      "metadata": {
        "id": "yhkf8Qafgbw3",
        "colab_type": "code",
        "colab": {
          "base_uri": "https://localhost:8080/",
          "height": 35
        },
        "outputId": "5436fe9d-7b52-48b6-9ad7-0eedd79c258c"
      },
      "source": [
        "engNick('woo',2,6)"
      ],
      "execution_count": 142,
      "outputs": [
        {
          "output_type": "execute_result",
          "data": {
            "application/vnd.google.colaboratory.intrinsic+json": {
              "type": "string"
            },
            "text/plain": [
              "'iiwoojaette'"
            ]
          },
          "metadata": {
            "tags": []
          },
          "execution_count": 142
        }
      ]
    }
  ]
}