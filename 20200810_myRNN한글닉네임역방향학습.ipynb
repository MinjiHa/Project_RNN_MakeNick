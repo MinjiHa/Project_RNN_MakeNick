{
  "nbformat": 4,
  "nbformat_minor": 0,
  "metadata": {
    "language_info": {
      "codemirror_mode": {
        "name": "ipython",
        "version": 3
      },
      "file_extension": ".py",
      "mimetype": "text/x-python",
      "name": "python",
      "nbconvert_exporter": "python",
      "pygments_lexer": "ipython3",
      "version": 3
    },
    "orig_nbformat": 2,
    "kernelspec": {
      "name": "python_defaultSpec_1597036188830",
      "display_name": "Python 3.7.7 64-bit"
    },
    "colab": {
      "name": "20200810_myRNN역방향학습.ipynb",
      "provenance": [],
      "collapsed_sections": [],
      "toc_visible": true
    },
    "accelerator": "GPU"
  },
  "cells": [
    {
      "cell_type": "code",
      "metadata": {
        "id": "ttDFiQvjxK4Z",
        "colab_type": "code",
        "colab": {}
      },
      "source": [
        "from keras.preprocessing.text import Tokenizer, text_to_word_sequence\n",
        "from keras.preprocessing.sequence import pad_sequences\n",
        "from keras.utils import to_categorical\n",
        "import numpy as np \n",
        "import pandas as pd\n",
        "from keras.models import Sequential\n",
        "from keras.layers import *\n",
        "from keras.callbacks import EarlyStopping"
      ],
      "execution_count": 71,
      "outputs": []
    },
    {
      "cell_type": "markdown",
      "metadata": {
        "id": "-FOCtlonxK4d",
        "colab_type": "text"
      },
      "source": [
        "# 한글닉네임 불러오기"
      ]
    },
    {
      "cell_type": "code",
      "metadata": {
        "id": "AIdH7onIxK4e",
        "colab_type": "code",
        "colab": {}
      },
      "source": [
        "# 전체 닉네임리스트 (글자딕셔너리 만들기 위해)\n",
        "df = pd.read_csv(\"nick_korean3.csv\")\n",
        "knick = list(df['닉네임'])\n",
        "\n",
        "# 세글자 이상 닉네임 따로 떼기 (RNN모델 위해)\n",
        "k_upthree_nick = df[df['닉네임'].str.len()>2]\n",
        "k_upthree_nick = list(k_upthree_nick['닉네임'])"
      ],
      "execution_count": 2,
      "outputs": []
    },
    {
      "cell_type": "code",
      "metadata": {
        "id": "cySoYyR_xK4g",
        "colab_type": "code",
        "colab": {
          "base_uri": "https://localhost:8080/",
          "height": 210
        },
        "outputId": "b6a0590a-9a10-449e-a981-2726432d3637"
      },
      "source": [
        "k_upthree_nick[:11]"
      ],
      "execution_count": 3,
      "outputs": [
        {
          "output_type": "execute_result",
          "data": {
            "text/plain": [
              "['그림자궁전',\n",
              " '액션꽁주',\n",
              " '하고싶은거다해',\n",
              " '빛나는옥쇄',\n",
              " '그린향기',\n",
              " '정의로운악당',\n",
              " '오꼬밍',\n",
              " '못난인형',\n",
              " '루아흐',\n",
              " '프랭크',\n",
              " '엄마는멋쟁이']"
            ]
          },
          "metadata": {
            "tags": []
          },
          "execution_count": 3
        }
      ]
    },
    {
      "cell_type": "code",
      "metadata": {
        "id": "5CCZodmfxK4k",
        "colab_type": "code",
        "colab": {
          "base_uri": "https://localhost:8080/",
          "height": 34
        },
        "outputId": "f4bc6191-b675-4614-bf24-6aa2f15e9908"
      },
      "source": [
        "len(k_upthree_nick) # 2580"
      ],
      "execution_count": 4,
      "outputs": [
        {
          "output_type": "execute_result",
          "data": {
            "text/plain": [
              "2610"
            ]
          },
          "metadata": {
            "tags": []
          },
          "execution_count": 4
        }
      ]
    },
    {
      "cell_type": "code",
      "metadata": {
        "id": "aaWx9zhlxK4m",
        "colab_type": "code",
        "colab": {
          "base_uri": "https://localhost:8080/",
          "height": 34
        },
        "outputId": "8ab60390-86a0-49a1-b075-45c71301da4f"
      },
      "source": [
        "len(max(k_upthree_nick, key=len)) #7"
      ],
      "execution_count": 5,
      "outputs": [
        {
          "output_type": "execute_result",
          "data": {
            "text/plain": [
              "7"
            ]
          },
          "metadata": {
            "tags": []
          },
          "execution_count": 5
        }
      ]
    },
    {
      "cell_type": "markdown",
      "metadata": {
        "id": "j8F8oejq7_Re",
        "colab_type": "text"
      },
      "source": [
        "# 글자:인덱스 딕셔너리 만들기"
      ]
    },
    {
      "cell_type": "code",
      "metadata": {
        "tags": [],
        "id": "xDLl5Z6fxK4o",
        "colab_type": "code",
        "colab": {}
      },
      "source": [
        "charSet = []\n",
        "for nick in knick:\n",
        "    charSet.extend(list(set(nick)))\n",
        "\n",
        "charSet = list(set(charSet)) # 중복제거\n",
        "charDic = {w:i+1 for i,w in enumerate(charSet)} # 글자딕셔너리 (글자:인덱스)\n",
        "numDic = {i+1:w for i,w in enumerate(charSet)} # 글자딕셔너리 (인덱스:글자)"
      ],
      "execution_count": 6,
      "outputs": []
    },
    {
      "cell_type": "code",
      "metadata": {
        "id": "bBc3-47nxK4r",
        "colab_type": "code",
        "colab": {}
      },
      "source": [
        "charsize = len(charSet) # 968"
      ],
      "execution_count": 7,
      "outputs": []
    },
    {
      "cell_type": "code",
      "metadata": {
        "id": "BveLqLLGz3oA",
        "colab_type": "code",
        "colab": {
          "base_uri": "https://localhost:8080/",
          "height": 34
        },
        "outputId": "89ff29d1-0f68-4624-f4ae-470c489dd9e1"
      },
      "source": [
        "charsize"
      ],
      "execution_count": 8,
      "outputs": [
        {
          "output_type": "execute_result",
          "data": {
            "text/plain": [
              "973"
            ]
          },
          "metadata": {
            "tags": []
          },
          "execution_count": 8
        }
      ]
    },
    {
      "cell_type": "markdown",
      "metadata": {
        "id": "8V5jPH477_Rl",
        "colab_type": "text"
      },
      "source": [
        "# 단어 역순으로 숫자화"
      ]
    },
    {
      "cell_type": "code",
      "metadata": {
        "id": "Y4wkAjUbxK4t",
        "colab_type": "code",
        "colab": {
          "base_uri": "https://localhost:8080/",
          "height": 210
        },
        "outputId": "8ac378e5-1dd1-4bac-b485-bee1de57f40c"
      },
      "source": [
        "char_numlist = []\n",
        "for xStr in k_upthree_nick:\n",
        "    x = [charDic[c] for c in xStr]\n",
        "    x.reverse()\n",
        "    char_numlist.append(x)\n",
        "char_numlist[:11]"
      ],
      "execution_count": 9,
      "outputs": [
        {
          "output_type": "execute_result",
          "data": {
            "text/plain": [
              "[[344, 383, 194, 763, 724],\n",
              " [460, 291, 267, 443],\n",
              " [326, 887, 152, 809, 587, 527, 434],\n",
              " [27, 233, 553, 808, 189],\n",
              " [764, 753, 176, 724],\n",
              " [708, 338, 59, 35, 771, 873],\n",
              " [430, 321, 417],\n",
              " [20, 208, 424, 540],\n",
              " [767, 334, 500],\n",
              " [391, 107, 732],\n",
              " [161, 692, 521, 553, 144, 650]]"
            ]
          },
          "metadata": {
            "tags": []
          },
          "execution_count": 9
        }
      ]
    },
    {
      "cell_type": "code",
      "metadata": {
        "id": "CTLBRflPxK40",
        "colab_type": "code",
        "colab": {
          "base_uri": "https://localhost:8080/",
          "height": 210
        },
        "outputId": "e1ef467e-3cfa-433f-eff8-81f7b51cf9da"
      },
      "source": [
        "# 순차적 글자배열만들기 (역순)\n",
        "nick_sequences = []\n",
        "for nick in k_upthree_nick: # 2580개 닉네임 , 968가지 단어 \n",
        "    encoded=[charDic[c] for c in nick] \n",
        "    encoded.reverse()\n",
        "    for i in range(1, len(encoded)):\n",
        "        sequence=encoded[:i+1]\n",
        "        nick_sequences.append(sequence)\n",
        "nick_sequences[:11]"
      ],
      "execution_count": 10,
      "outputs": [
        {
          "output_type": "execute_result",
          "data": {
            "text/plain": [
              "[[344, 383],\n",
              " [344, 383, 194],\n",
              " [344, 383, 194, 763],\n",
              " [344, 383, 194, 763, 724],\n",
              " [460, 291],\n",
              " [460, 291, 267],\n",
              " [460, 291, 267, 443],\n",
              " [326, 887],\n",
              " [326, 887, 152],\n",
              " [326, 887, 152, 809],\n",
              " [326, 887, 152, 809, 587]]"
            ]
          },
          "metadata": {
            "tags": []
          },
          "execution_count": 10
        }
      ]
    },
    {
      "cell_type": "code",
      "metadata": {
        "tags": [],
        "id": "qBKMXIdwxK44",
        "colab_type": "code",
        "colab": {
          "base_uri": "https://localhost:8080/",
          "height": 105
        },
        "outputId": "6ae9f0c2-65ff-4104-8cdb-98a00c19c289"
      },
      "source": [
        "# 패딩해주기 (최대길이7)\n",
        "sequences=pad_sequences(nick_sequences, maxlen=7, padding='pre')\n",
        "print(sequences[:5])"
      ],
      "execution_count": 11,
      "outputs": [
        {
          "output_type": "stream",
          "text": [
            "[[  0   0   0   0   0 344 383]\n",
            " [  0   0   0   0 344 383 194]\n",
            " [  0   0   0 344 383 194 763]\n",
            " [  0   0 344 383 194 763 724]\n",
            " [  0   0   0   0   0 460 291]]\n"
          ],
          "name": "stdout"
        }
      ]
    },
    {
      "cell_type": "code",
      "metadata": {
        "id": "1efJ5kUcxK47",
        "colab_type": "code",
        "colab": {}
      },
      "source": [
        "# x,y데이터 나누기\n",
        "x = sequences[:,:-1]\n",
        "y = sequences[:,-1]"
      ],
      "execution_count": 12,
      "outputs": []
    },
    {
      "cell_type": "code",
      "metadata": {
        "tags": [],
        "id": "Tq5fuulGxK5A",
        "colab_type": "code",
        "colab": {
          "base_uri": "https://localhost:8080/",
          "height": 228
        },
        "outputId": "d6e455a2-96c6-4109-96d7-b1976a5e898f"
      },
      "source": [
        "# x,y데이터 확인\n",
        "print(x[:11])\n",
        "print(y[:11])"
      ],
      "execution_count": 13,
      "outputs": [
        {
          "output_type": "stream",
          "text": [
            "[[  0   0   0   0   0 344]\n",
            " [  0   0   0   0 344 383]\n",
            " [  0   0   0 344 383 194]\n",
            " [  0   0 344 383 194 763]\n",
            " [  0   0   0   0   0 460]\n",
            " [  0   0   0   0 460 291]\n",
            " [  0   0   0 460 291 267]\n",
            " [  0   0   0   0   0 326]\n",
            " [  0   0   0   0 326 887]\n",
            " [  0   0   0 326 887 152]\n",
            " [  0   0 326 887 152 809]]\n",
            "[383 194 763 724 291 267 443 887 152 809 587]\n"
          ],
          "name": "stdout"
        }
      ]
    },
    {
      "cell_type": "code",
      "metadata": {
        "id": "u1tZtmHbxK5E",
        "colab_type": "code",
        "colab": {
          "base_uri": "https://localhost:8080/",
          "height": 34
        },
        "outputId": "2397bf16-75d4-4e91-c477-1869297bb433"
      },
      "source": [
        "x.shape"
      ],
      "execution_count": 14,
      "outputs": [
        {
          "output_type": "execute_result",
          "data": {
            "text/plain": [
              "(7671, 6)"
            ]
          },
          "metadata": {
            "tags": []
          },
          "execution_count": 14
        }
      ]
    },
    {
      "cell_type": "code",
      "metadata": {
        "id": "WN3cBNGjxK5H",
        "colab_type": "code",
        "colab": {
          "base_uri": "https://localhost:8080/",
          "height": 140
        },
        "outputId": "1c7b6547-1512-4050-d997-420d2171ec8c"
      },
      "source": [
        "# y데이터 원핫인코딩\n",
        "y = to_categorical(y)\n",
        "y"
      ],
      "execution_count": 15,
      "outputs": [
        {
          "output_type": "execute_result",
          "data": {
            "text/plain": [
              "array([[0., 0., 0., ..., 0., 0., 0.],\n",
              "       [0., 0., 0., ..., 0., 0., 0.],\n",
              "       [0., 0., 0., ..., 0., 0., 0.],\n",
              "       ...,\n",
              "       [0., 0., 0., ..., 0., 0., 0.],\n",
              "       [0., 0., 0., ..., 0., 0., 0.],\n",
              "       [0., 0., 0., ..., 0., 0., 0.]], dtype=float32)"
            ]
          },
          "metadata": {
            "tags": []
          },
          "execution_count": 15
        }
      ]
    },
    {
      "cell_type": "code",
      "metadata": {
        "id": "G_kdDs3cxK5K",
        "colab_type": "code",
        "colab": {
          "base_uri": "https://localhost:8080/",
          "height": 34
        },
        "outputId": "bc0263f7-1c86-4e67-9344-536c64178f4f"
      },
      "source": [
        "y.shape"
      ],
      "execution_count": 16,
      "outputs": [
        {
          "output_type": "execute_result",
          "data": {
            "text/plain": [
              "(7671, 974)"
            ]
          },
          "metadata": {
            "tags": []
          },
          "execution_count": 16
        }
      ]
    },
    {
      "cell_type": "code",
      "metadata": {
        "id": "z4s_R8SZxK5w",
        "colab_type": "code",
        "colab": {
          "base_uri": "https://localhost:8080/",
          "height": 34
        },
        "outputId": "67a7bfed-801b-49f7-84b5-baa881e35614"
      },
      "source": [
        "len(y[0]) # 패딩으로 사용하는 0과 charsize 1~968"
      ],
      "execution_count": 17,
      "outputs": [
        {
          "output_type": "execute_result",
          "data": {
            "text/plain": [
              "974"
            ]
          },
          "metadata": {
            "tags": []
          },
          "execution_count": 17
        }
      ]
    },
    {
      "cell_type": "markdown",
      "metadata": {
        "id": "1u4flpC97_R4",
        "colab_type": "text"
      },
      "source": [
        "# RNN 모델 학습시키기"
      ]
    },
    {
      "cell_type": "code",
      "metadata": {
        "tags": [],
        "id": "-Nmx0SsuxK5z",
        "colab_type": "code",
        "colab": {
          "base_uri": "https://localhost:8080/",
          "height": 263
        },
        "outputId": "c8ec73cc-59d8-4ee9-be6b-d52968fa2dab"
      },
      "source": [
        "##모델 생성\n",
        "model = Sequential()\n",
        "model.add(Embedding(974, 50, input_length=6)) \n",
        "model.add(LSTM(50*64))\n",
        "model.add(Dense(974, activation='softmax'))\n",
        "model.summary()"
      ],
      "execution_count": 18,
      "outputs": [
        {
          "output_type": "stream",
          "text": [
            "Model: \"sequential\"\n",
            "_________________________________________________________________\n",
            "Layer (type)                 Output Shape              Param #   \n",
            "=================================================================\n",
            "embedding (Embedding)        (None, 6, 50)             48700     \n",
            "_________________________________________________________________\n",
            "lstm (LSTM)                  (None, 3200)              41612800  \n",
            "_________________________________________________________________\n",
            "dense (Dense)                (None, 974)               3117774   \n",
            "=================================================================\n",
            "Total params: 44,779,274\n",
            "Trainable params: 44,779,274\n",
            "Non-trainable params: 0\n",
            "_________________________________________________________________\n"
          ],
          "name": "stdout"
        }
      ]
    },
    {
      "cell_type": "code",
      "metadata": {
        "tags": [],
        "id": "RUJKNhZ3xK53",
        "colab_type": "code",
        "colab": {
          "base_uri": "https://localhost:8080/",
          "height": 246
        },
        "outputId": "5ffc0e13-dbf8-46c4-da92-5deb23a763f2"
      },
      "source": [
        "# 모델 컴파일\n",
        "model.compile(loss='categorical_crossentropy',\n",
        "              optimizer='adam',\n",
        "              metrics=['accuracy'])\n",
        "\n",
        "# 콜백함수 지정\n",
        "early_stopping = EarlyStopping(monitor='accuracy', min_delta=0.01, patience=5, mode='auto')\n",
        "\n",
        "# 모델 피팅\n",
        "model.fit(x, y, epochs=100, callbacks=[early_stopping])"
      ],
      "execution_count": 83,
      "outputs": [
        {
          "output_type": "stream",
          "text": [
            "Epoch 1/100\n",
            "240/240 [==============================] - 20s 81ms/step - loss: 1.0559 - accuracy: 0.6355\n",
            "Epoch 2/100\n",
            "240/240 [==============================] - 19s 81ms/step - loss: 1.0251 - accuracy: 0.6437\n",
            "Epoch 3/100\n",
            "240/240 [==============================] - 20s 82ms/step - loss: 1.0215 - accuracy: 0.6403\n",
            "Epoch 4/100\n",
            "240/240 [==============================] - 20s 82ms/step - loss: 1.0178 - accuracy: 0.6422\n",
            "Epoch 5/100\n",
            "240/240 [==============================] - 20s 81ms/step - loss: 1.0159 - accuracy: 0.6377\n",
            "Epoch 6/100\n",
            "240/240 [==============================] - 20s 81ms/step - loss: 1.0151 - accuracy: 0.6386\n"
          ],
          "name": "stdout"
        },
        {
          "output_type": "execute_result",
          "data": {
            "text/plain": [
              "<tensorflow.python.keras.callbacks.History at 0x7f719524a5c0>"
            ]
          },
          "metadata": {
            "tags": []
          },
          "execution_count": 83
        }
      ]
    },
    {
      "cell_type": "markdown",
      "metadata": {
        "id": "U3HdEBD37_SD",
        "colab_type": "text"
      },
      "source": [
        "# 모델 테스트"
      ]
    },
    {
      "cell_type": "code",
      "metadata": {
        "id": "bUHuqsPbuNcX",
        "colab_type": "code",
        "colab": {}
      },
      "source": [
        "# 역방향 학습모델 실행 함수\n",
        "def sentence_generation(model, cw, n):\n",
        "    initWord = cw # 시작단어 \n",
        "    sentence = ''\n",
        "    for _ in range(n): # 10번 반복한다  _ :10번 반복 하는 동안 값을 받는 변수가 없다.\n",
        "        x = [charDic[c] for c in cw]\n",
        "        x.reverse()\n",
        "        x = pad_sequences([x], maxlen=6, padding='pre')\n",
        "        # print(x) #[2] ->-[0 0 0 0 0 2]\n",
        "        result = np.argmax(model.predict(x), axis=-1)\n",
        "        # print(result) #[3] ==word_index[3]의 index\n",
        "        for i,w in enumerate(charSet):\n",
        "            if i+1==result[0]:\n",
        "              cw=cw+w\n",
        "              sentence = sentence+w\n",
        "              break\n",
        "    return sentence[::-1]+initWord\n",
        "\n",
        "# 동 4 / 스마일 2 / 보라 3 / 슈퍼 3 / 러블리 3 / 큐티 3 / 달달 2 / 짱구 5 / 쥬 5"
      ],
      "execution_count": 85,
      "outputs": []
    },
    {
      "cell_type": "code",
      "metadata": {
        "id": "g3dudE5TBtBD",
        "colab_type": "code",
        "tags": [],
        "colab": {
          "base_uri": "https://localhost:8080/",
          "height": 35
        },
        "outputId": "63b36d12-2dd3-44ca-b0e5-3dcfbd1901d0"
      },
      "source": [
        "# 모델, 입력값, 입력값에 연결될 출력값 길이\n",
        "sentence_generation(model,'보라', 3)"
      ],
      "execution_count": 111,
      "outputs": [
        {
          "output_type": "execute_result",
          "data": {
            "application/vnd.google.colaboratory.intrinsic+json": {
              "type": "string"
            },
            "text/plain": [
              "'한정라보라'"
            ]
          },
          "metadata": {
            "tags": []
          },
          "execution_count": 111
        }
      ]
    },
    {
      "cell_type": "code",
      "metadata": {
        "id": "pPVh7TAQHXOR",
        "colab_type": "code",
        "colab": {
          "base_uri": "https://localhost:8080/",
          "height": 35
        },
        "outputId": "ed64d1ab-ae8d-41b4-a235-ebf5fb530dfc"
      },
      "source": [
        "sentence_generation(model,'동동', 3)"
      ],
      "execution_count": 108,
      "outputs": [
        {
          "output_type": "execute_result",
          "data": {
            "application/vnd.google.colaboratory.intrinsic+json": {
              "type": "string"
            },
            "text/plain": [
              "'장뜨슬동동'"
            ]
          },
          "metadata": {
            "tags": []
          },
          "execution_count": 108
        }
      ]
    },
    {
      "cell_type": "code",
      "metadata": {
        "id": "VdwfM16kH2n_",
        "colab_type": "code",
        "colab": {
          "base_uri": "https://localhost:8080/",
          "height": 35
        },
        "outputId": "52904859-68ba-4c6b-9c2b-098e34b94cfb"
      },
      "source": [
        "sentence_generation(model,'티라노', 2)"
      ],
      "execution_count": 77,
      "outputs": [
        {
          "output_type": "execute_result",
          "data": {
            "application/vnd.google.colaboratory.intrinsic+json": {
              "type": "string"
            },
            "text/plain": [
              "'식식티라노'"
            ]
          },
          "metadata": {
            "tags": []
          },
          "execution_count": 77
        }
      ]
    },
    {
      "cell_type": "code",
      "metadata": {
        "id": "ov_eNgVMH6eH",
        "colab_type": "code",
        "colab": {
          "base_uri": "https://localhost:8080/",
          "height": 35
        },
        "outputId": "4aa08f5c-b829-4ddc-95f9-532f97cb1cf9"
      },
      "source": [
        "sentence_generation(model,'짱구', 1)"
      ],
      "execution_count": 29,
      "outputs": [
        {
          "output_type": "execute_result",
          "data": {
            "application/vnd.google.colaboratory.intrinsic+json": {
              "type": "string"
            },
            "text/plain": [
              "'앞짱구'"
            ]
          },
          "metadata": {
            "tags": []
          },
          "execution_count": 29
        }
      ]
    },
    {
      "cell_type": "code",
      "metadata": {
        "id": "CWpRhQ-cH-wH",
        "colab_type": "code",
        "colab": {
          "base_uri": "https://localhost:8080/",
          "height": 35
        },
        "outputId": "da8b03b3-1b11-4771-cb84-e8e1831abb0b"
      },
      "source": [
        "sentence_generation(model,'슬', 3)"
      ],
      "execution_count": 78,
      "outputs": [
        {
          "output_type": "execute_result",
          "data": {
            "application/vnd.google.colaboratory.intrinsic+json": {
              "type": "string"
            },
            "text/plain": [
              "'랑이주슬'"
            ]
          },
          "metadata": {
            "tags": []
          },
          "execution_count": 78
        }
      ]
    },
    {
      "cell_type": "code",
      "metadata": {
        "id": "7EHOsvX3IIfS",
        "colab_type": "code",
        "colab": {
          "base_uri": "https://localhost:8080/",
          "height": 35
        },
        "outputId": "6d0567ba-2dea-4c92-c457-33934d394ead"
      },
      "source": [
        "sentence_generation(model,'밍', 3)"
      ],
      "execution_count": 79,
      "outputs": [
        {
          "output_type": "execute_result",
          "data": {
            "application/vnd.google.colaboratory.intrinsic+json": {
              "type": "string"
            },
            "text/plain": [
              "'마라마밍'"
            ]
          },
          "metadata": {
            "tags": []
          },
          "execution_count": 79
        }
      ]
    },
    {
      "cell_type": "code",
      "metadata": {
        "id": "7YP6X32TIMZH",
        "colab_type": "code",
        "colab": {
          "base_uri": "https://localhost:8080/",
          "height": 35
        },
        "outputId": "4fef192b-8058-44d4-d459-f6b4a62dbeb0"
      },
      "source": [
        "sentence_generation(model,'빵', 3)"
      ],
      "execution_count": 35,
      "outputs": [
        {
          "output_type": "execute_result",
          "data": {
            "application/vnd.google.colaboratory.intrinsic+json": {
              "type": "string"
            },
            "text/plain": [
              "'모캔라빵'"
            ]
          },
          "metadata": {
            "tags": []
          },
          "execution_count": 35
        }
      ]
    },
    {
      "cell_type": "code",
      "metadata": {
        "id": "XVDsOtzUIR3P",
        "colab_type": "code",
        "colab": {
          "base_uri": "https://localhost:8080/",
          "height": 35
        },
        "outputId": "55027c17-c04e-4618-c6cf-5b9d23910fde"
      },
      "source": [
        "sentence_generation(model,'이', 3)"
      ],
      "execution_count": 36,
      "outputs": [
        {
          "output_type": "execute_result",
          "data": {
            "application/vnd.google.colaboratory.intrinsic+json": {
              "type": "string"
            },
            "text/plain": [
              "'로제아이'"
            ]
          },
          "metadata": {
            "tags": []
          },
          "execution_count": 36
        }
      ]
    },
    {
      "cell_type": "code",
      "metadata": {
        "id": "VhhyEN4zIU7P",
        "colab_type": "code",
        "colab": {
          "base_uri": "https://localhost:8080/",
          "height": 35
        },
        "outputId": "01eb669c-cdfe-430e-d344-ca342619a5d8"
      },
      "source": [
        "sentence_generation(model,'갱', 3)"
      ],
      "execution_count": 37,
      "outputs": [
        {
          "output_type": "execute_result",
          "data": {
            "application/vnd.google.colaboratory.intrinsic+json": {
              "type": "string"
            },
            "text/plain": [
              "'카앤리갱'"
            ]
          },
          "metadata": {
            "tags": []
          },
          "execution_count": 37
        }
      ]
    },
    {
      "cell_type": "code",
      "metadata": {
        "id": "Hfh4aPUhIXk4",
        "colab_type": "code",
        "colab": {
          "base_uri": "https://localhost:8080/",
          "height": 35
        },
        "outputId": "d487db1f-ef5f-41ae-ae0b-e0d90074c71b"
      },
      "source": [
        "sentence_generation(model,'귤', 5)"
      ],
      "execution_count": 62,
      "outputs": [
        {
          "output_type": "execute_result",
          "data": {
            "application/vnd.google.colaboratory.intrinsic+json": {
              "type": "string"
            },
            "text/plain": [
              "'꼼봄탱탱탱귤'"
            ]
          },
          "metadata": {
            "tags": []
          },
          "execution_count": 62
        }
      ]
    },
    {
      "cell_type": "code",
      "metadata": {
        "id": "UyfBt-2bIZm_",
        "colab_type": "code",
        "colab": {
          "base_uri": "https://localhost:8080/",
          "height": 35
        },
        "outputId": "b95b54c9-6cb9-4fbc-8210-9d60c1275f44"
      },
      "source": [
        "sentence_generation(model,'팥', 5)"
      ],
      "execution_count": 64,
      "outputs": [
        {
          "output_type": "execute_result",
          "data": {
            "application/vnd.google.colaboratory.intrinsic+json": {
              "type": "string"
            },
            "text/plain": [
              "'단이단김단팥'"
            ]
          },
          "metadata": {
            "tags": []
          },
          "execution_count": 64
        }
      ]
    },
    {
      "cell_type": "code",
      "metadata": {
        "id": "ksybTJpnOzKC",
        "colab_type": "code",
        "colab": {
          "base_uri": "https://localhost:8080/",
          "height": 35
        },
        "outputId": "d582e66a-11e7-44b1-d3c6-16009df004fc"
      },
      "source": [
        "sentence_generation(model,'장', 6)"
      ],
      "execution_count": 93,
      "outputs": [
        {
          "output_type": "execute_result",
          "data": {
            "application/vnd.google.colaboratory.intrinsic+json": {
              "type": "string"
            },
            "text/plain": [
              "'호비순딩딩부장'"
            ]
          },
          "metadata": {
            "tags": []
          },
          "execution_count": 93
        }
      ]
    },
    {
      "cell_type": "code",
      "metadata": {
        "id": "D5odIxueuPTc",
        "colab_type": "code",
        "colab": {}
      },
      "source": [
        "# 6. 모델 저장하기\n",
        "from keras.models import load_model\n",
        "model.save('knick_model2.h5')"
      ],
      "execution_count": null,
      "outputs": []
    },
    {
      "cell_type": "code",
      "metadata": {
        "tags": [],
        "id": "nYuNGkbG7_SK",
        "colab_type": "code",
        "colab": {
          "base_uri": "https://localhost:8080/",
          "height": 351
        },
        "outputId": "5c98da63-2821-435c-e487-2da3c75ae9ce"
      },
      "source": [
        "# 7. 모델 불러오기\n",
        "from keras.models import load_model\n",
        "model2 = load_model(\"knick_model2.h5\")"
      ],
      "execution_count": 63,
      "outputs": [
        {
          "output_type": "error",
          "ename": "OSError",
          "evalue": "ignored",
          "traceback": [
            "\u001b[0;31m---------------------------------------------------------------------------\u001b[0m",
            "\u001b[0;31mOSError\u001b[0m                                   Traceback (most recent call last)",
            "\u001b[0;32m<ipython-input-63-b0769f885c47>\u001b[0m in \u001b[0;36m<module>\u001b[0;34m()\u001b[0m\n\u001b[1;32m      1\u001b[0m \u001b[0;31m# 7. 모델 불러오기\u001b[0m\u001b[0;34m\u001b[0m\u001b[0;34m\u001b[0m\u001b[0;34m\u001b[0m\u001b[0m\n\u001b[1;32m      2\u001b[0m \u001b[0;32mfrom\u001b[0m \u001b[0mkeras\u001b[0m\u001b[0;34m.\u001b[0m\u001b[0mmodels\u001b[0m \u001b[0;32mimport\u001b[0m \u001b[0mload_model\u001b[0m\u001b[0;34m\u001b[0m\u001b[0;34m\u001b[0m\u001b[0m\n\u001b[0;32m----> 3\u001b[0;31m \u001b[0mmodel2\u001b[0m \u001b[0;34m=\u001b[0m \u001b[0mload_model\u001b[0m\u001b[0;34m(\u001b[0m\u001b[0;34m\"knick_model2.h5\"\u001b[0m\u001b[0;34m)\u001b[0m\u001b[0;34m\u001b[0m\u001b[0;34m\u001b[0m\u001b[0m\n\u001b[0m",
            "\u001b[0;32m/usr/local/lib/python3.6/dist-packages/tensorflow/python/keras/saving/save.py\u001b[0m in \u001b[0;36mload_model\u001b[0;34m(filepath, custom_objects, compile, options)\u001b[0m\n\u001b[1;32m    184\u001b[0m     \u001b[0mfilepath\u001b[0m \u001b[0;34m=\u001b[0m \u001b[0mpath_to_string\u001b[0m\u001b[0;34m(\u001b[0m\u001b[0mfilepath\u001b[0m\u001b[0;34m)\u001b[0m\u001b[0;34m\u001b[0m\u001b[0;34m\u001b[0m\u001b[0m\n\u001b[1;32m    185\u001b[0m     \u001b[0;32mif\u001b[0m \u001b[0misinstance\u001b[0m\u001b[0;34m(\u001b[0m\u001b[0mfilepath\u001b[0m\u001b[0;34m,\u001b[0m \u001b[0msix\u001b[0m\u001b[0;34m.\u001b[0m\u001b[0mstring_types\u001b[0m\u001b[0;34m)\u001b[0m\u001b[0;34m:\u001b[0m\u001b[0;34m\u001b[0m\u001b[0;34m\u001b[0m\u001b[0m\n\u001b[0;32m--> 186\u001b[0;31m       \u001b[0mloader_impl\u001b[0m\u001b[0;34m.\u001b[0m\u001b[0mparse_saved_model\u001b[0m\u001b[0;34m(\u001b[0m\u001b[0mfilepath\u001b[0m\u001b[0;34m)\u001b[0m\u001b[0;34m\u001b[0m\u001b[0;34m\u001b[0m\u001b[0m\n\u001b[0m\u001b[1;32m    187\u001b[0m       \u001b[0;32mreturn\u001b[0m \u001b[0msaved_model_load\u001b[0m\u001b[0;34m.\u001b[0m\u001b[0mload\u001b[0m\u001b[0;34m(\u001b[0m\u001b[0mfilepath\u001b[0m\u001b[0;34m,\u001b[0m \u001b[0mcompile\u001b[0m\u001b[0;34m,\u001b[0m \u001b[0moptions\u001b[0m\u001b[0;34m)\u001b[0m\u001b[0;34m\u001b[0m\u001b[0;34m\u001b[0m\u001b[0m\n\u001b[1;32m    188\u001b[0m \u001b[0;34m\u001b[0m\u001b[0m\n",
            "\u001b[0;32m/usr/local/lib/python3.6/dist-packages/tensorflow/python/saved_model/loader_impl.py\u001b[0m in \u001b[0;36mparse_saved_model\u001b[0;34m(export_dir)\u001b[0m\n\u001b[1;32m    111\u001b[0m                   (export_dir,\n\u001b[1;32m    112\u001b[0m                    \u001b[0mconstants\u001b[0m\u001b[0;34m.\u001b[0m\u001b[0mSAVED_MODEL_FILENAME_PBTXT\u001b[0m\u001b[0;34m,\u001b[0m\u001b[0;34m\u001b[0m\u001b[0;34m\u001b[0m\u001b[0m\n\u001b[0;32m--> 113\u001b[0;31m                    constants.SAVED_MODEL_FILENAME_PB))\n\u001b[0m\u001b[1;32m    114\u001b[0m \u001b[0;34m\u001b[0m\u001b[0m\n\u001b[1;32m    115\u001b[0m \u001b[0;34m\u001b[0m\u001b[0m\n",
            "\u001b[0;31mOSError\u001b[0m: SavedModel file does not exist at: knick_model2.h5/{saved_model.pbtxt|saved_model.pb}"
          ]
        }
      ]
    },
    {
      "cell_type": "code",
      "metadata": {
        "id": "P_cR86S47_SL",
        "colab_type": "code",
        "colab": {}
      },
      "source": [
        ""
      ],
      "execution_count": null,
      "outputs": []
    }
  ]
}