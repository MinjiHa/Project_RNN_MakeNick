{
 "metadata": {
  "language_info": {
   "codemirror_mode": {
    "name": "ipython",
    "version": 3
   },
   "file_extension": ".py",
   "mimetype": "text/x-python",
   "name": "python",
   "nbconvert_exporter": "python",
   "pygments_lexer": "ipython3",
   "version": 3
  },
  "orig_nbformat": 2,
  "kernelspec": {
   "name": "python_defaultSpec_1596672904699",
   "display_name": "Python 3.7.7 64-bit"
  }
 },
 "nbformat": 4,
 "nbformat_minor": 2,
 "cells": [
  {
   "cell_type": "code",
   "execution_count": 2,
   "metadata": {},
   "outputs": [],
   "source": [
    "from selenium import webdriver\n",
    "from bs4 import BeautifulSoup\n",
    "from urllib.request import Request, urlopen\n",
    "from selenium.webdriver.common.keys import Keys\n",
    "import html5lib\n",
    "import time\n",
    "from tqdm.notebook import tqdm\n",
    "from selenium.common.exceptions import NoSuchElementException\n",
    "import pandas as pd\n",
    "import numpy as np"
   ]
  },
  {
   "cell_type": "code",
   "execution_count": 7,
   "metadata": {},
   "outputs": [],
   "source": [
    "options = webdriver.ChromeOptions()\n",
    "options.add_argument('headless')    # 웹 브라우저를 띄우지 않는 headless chrome 옵션 적용\n",
    "options.add_argument('disable-gpu')    # GPU 사용 안함\n",
    "options.add_argument('lang=ko_KR')    # 언어 설정, options=options\n",
    "driver = webdriver.Chrome('chromedriver', options=options)"
   ]
  },
  {
   "cell_type": "markdown",
   "metadata": {},
   "source": [
    "# 네이버 블로그 닉네임 크롤링"
   ]
  },
  {
   "cell_type": "code",
   "execution_count": 12,
   "metadata": {
    "tags": []
   },
   "outputs": [
    {
     "output_type": "execute_result",
     "data": {
      "text/plain": " 자동차이야기'],\n ['류내Liuna', '[류내의 블로그]'],\n ['봉봉이', '봉봉이의 게임블로그'],\n ['북극여우', '진정한 마나르'],\n ['타임스쿠터', '원데이탐스'],\n ['W와이', '와이의블로그'],\n ['꺽달팜', '♥ 여람농장 방문을 환영합니다..'],\n ['예니냥 I 루온', '《추리소설,애니,글짓기 좋아합니다!》'],\n ['파인플라워', '꽃이야기 \"파인플라워\"'],\n ['우주적 조만장자', '우주적 조만장자'],\n ['이진희', '책 읽는 시간'],\n ['윤포뇨', '범사에 감사.'],\n ['김꾸꾸', '/ my diary /'],\n ['다마소', 'damasus64님의 블로그'],\n ['해랑', '해랑 HR'],\n ['한번뿐인 인생 웃자', '긍정적으로 바라보는 세상'],\n ['서 현', 'per aruda ad astra'],\n ['빠리지앤쑤', 'LIFE IN PARIS'],\n ['별하나스텔라하나', '병렬이의 일상생활과 반려동물 일기'],\n ['고굼', 'ɢᴏ_ɢᴏᴜᴍ ʟɪғᴇ'],\n ['함설', '완벽하진 않아도 누구보다 행복하길'],\n ['유에', '유에의 휴식장소'],\n ['창문행', '창문행'],\n ['막무', '가내'],\n ['아사오 I 유이', '나팔꽃이 피다.'],\n ['좋은 사람', 'power5018님의블로그'],\n ['etchu', '끄적끄적'],\n ['좋은 사람', 'power5018님의블로그'],\n ['한정원님', 'qlxmqkrtm14님의블로그'],\n ['아나바다', '신영폰 02-2688-7449'],\n ['잉잉잉', '잉잉잉님의블로그'],\n ['yoreu', 'がんばろう!!'],\n ['스포츠전문분석가', '업앤다운'],\n ['RYEOUN', '[~8/5] 다시 만나요!'],\n ['스포츠전문분석가', '업앤다운'],\n ['얼음공주', 'babume님의 블로그'],\n ['우희', 'Blue Rain'],\n ['mila', '어덜트픽'],\n ['간zl작살 Zl존 명워', '스불재'],\n ['돌돌', '투박다듬기'],\n ['리히 lihi', '리히 is 뭔들'],\n ['돌돌', '투박다듬기'],\n ['동그라미', '강원약초!! 자연이 주는 선물'],\n ['기흥플렛폼', '기흥ICT밸리 SK V1'],\n ['겨울잠결심', '동굴 탐험展'],\n ['조지 잭슨', '모두를 위한 추억들'],\n ['능소화', 'elf9931님의블로그'],\n ['겨자', '-님의블로그'],\n ['몽츄이', '사라지지 않는 흔적에 덧붙이는 추억'],\n ['진양자석', '진양자석: 국내 최고의 기술력 자석응용기기 전문업체'],\n ['drawlinecompany', 'drawlinecompany'],\n ['배낭여행', '나홀로 교사'],\n ['저기요', '쉽게 살자, 맛있게 먹자, 이쁘자'],\n ['루노', 'I Believe in my self'],\n ['소중한 만남', 'kkgyjs74님의블로그'],\n ['리에나 하유', '아하하...'],\n ['일미', '갑자기 내린 소나기는 이제 그쳤을까?'],\n ['수햐', '80세까지 잘 살 수 있을까'],\n ['허니쌤', '허니쌤의 꿀 정보만 모아논 블로그'],\n ['제제날다', '제제날다'],\n ['love마키', '요즘 미야시타 아이도 좋아진 것 같다...'],\n ['love마키', '요즘 미야시타 아이도 좋아진 것 같다...'],\n ['피그렛', '지금 여기, 이곳에서'],\n ['지제리', '지제리의 상상영어'],\n ['백조', '1994'],\n ['예지니Love', 'yejini7929-love5님의블로그'],\n ['밤하늘별빛창', '@Bambyeol'],\n ['new', 'slp의 슬기로운 전업생활♡'],\n ['소금강 여울목 펜션', 'zoyo35e님의블로그'],\n ['밤하늘별빛창', '@Bambyeol'],\n ['new', 'slp의 슬기로운 전업생활♡'],\n ['황금아이', '황금아이의 생활블로그'],\n ['극텐션 민설', '모네랑 우결중| 배경 민트가 그려 줌><'],\n ['한별ONESTAR', 'seoyoo0319님의블로그'],\n ['Hello', '별/바람/꽃/태양/'],\n ['Hello', '별/바람/꽃/태양/'],\n ['바다세웅', 'Safe & Sound'],\n ['옞쨩', '옞쨩'],\n ['카르디노프214', '카르디노프의 일상과 생활'],\n ['백만장자', '내삶의 모든 꿈이 이루어지고 있다'],\n ['하츠', '너무 믿지마세요'],\n ['서기', ':..: 서기네 삼남매 Story:..:'],\n ['스마트 컨설팅 김옥련', '김옥련의 스마트한 SNS 나눔창고'],\n ['서기', ':..: 서기네 삼남매 Story:..:'],\n ['초이', '초이네'],\n ['차씨네부대장', '차차네일상이야기'],\n ['무진', '일상'],\n ['부평코코네일', '★부평코코네일 개인블로그'],\n ['조네진', '조네진의 블로그'],\n ['시넘', 'jam825님의 블로그'],\n ['레넨 RENEN', '날 부드럽게 죽여줘요'],\n ['Suzie', 'suzie님의블로그'],\n ['채로리', 'daily.cherry'],\n ['떠경', 'My diary'],\n ['김단소', '해바롹'],\n ['유채 소통률하락', '글쓸게 너무 많아....'],\n ['유채 소통률하락', '글쓸게 너무 많아....'],\n ['꿈마을', 'ggumaul님의 블로그'],\n ['Bella', 'Bella_Blog'],\n ['백합', 'sosj1945님의 블로그'],\n ['천해', '하늘 위에 추억은 바다'],\n ['남바원 이사', '넘버원 최고이사'],\n ['유선', 'my whole life'],\n ['토토사다리차스카이차', '안산시 군포시 시흥시 화성시 정왕동 사다리차'],\n ['Choi Lupy', 'Lupy’s a nearby living diary'],\n ['서서희희', \"Let's Life Joyful~*^^*\"],\n ['에덴인테리어', 'ac475700'],\n ['영 YOUNG', '청춘시대'],\n ['깔끄미', '요양원전문세탁기업 silvercleanplus 031-492-6227'],\n ['다나나킥', '나에게서 당신에게'],\n ['영 YOUNG', '청춘시대'],\n ['dongbank4', 'dongbank4님의블로그'],\n ['깔끄미', '요양원전문세탁기업 silvercleanplus 031-492-6227'],\n ['다나나킥', '나에게서 당신에게'],\n ['BAM', 'BAM_READINGNAM'],\n ['미세스장', 'Living a Happy Life'],\n ['예쁜밍경이', 'fleur'],\n ['미세스장', 'Living a Happy Life'],\n ['예쁜밍경이', 'fleur'],\n ['현무의 각종일상', '현무의 각종일상님의 블로그'],\n ['이오월', '오월이의_일상'],\n ['나이스 드라이빙', '장롱면허 탈출은 나이스 드라이빙에서~^^'],\n ['슈페리온', '슈페리온의 비밀기지'],\n ['쿠키우산', '포켓쿠키'],\n ['보듬이', '위드 유(WITHYOU) 재가복지센터 619-80-01862'],\n ['쿠키우산', '포켓쿠키'],\n ['노래장이 숨', '숨 뮤직 앤 필름'],\n ['임덕글', '쉼'],\n ['동백댁달님', 'ᵍᵒᵒᵈ ᵑᑊ̇ᵍᑋᐪ( ᵕ·̮ᵕ )♩'],\n ['렘님', '캠프렘님'],\n ['뚠뚜니', '윤뚠뚜의 오늘'],\n ['나얼', 'suffer'],\n ['뚠뚜니', '윤뚠뚜의 오늘'],\n ['메기야', '메기 님의 블로그'],\n ['요리하는 흰둥이', '누렁이, 흰둥이. 먹어!'],\n ['삼성화재 강윤희', '보험설계사 다이어리'],\n ['토드', '토드의 일상 공작소'],\n ['빛과소금아름다운세상', 'wnry5님의블로그'],\n ['연zi', 'yeon-zi'],\n ['빛과소금아름다운세상', 'wnry5님의블로그'],\n ['C1 시원하수구', '대전하수구변기씽크대뚫음 010-7912-7952'],\n ['나윤테크', '나윤테크'],\n ['커피중독 사과', '난 상관없는데 왜 니들이 난리'],\n ['레고만화가', '그냥 레고 만화가'],\n ['리쩡', '笑笑한 일상'],\n ['커피중독 사과', '난 상관없는데 왜 니들이 난리'],\n ['레고만화가', '그냥 레고 만화가'],\n ['리쩡', '笑笑한 일상'],\n ['명지독서논술미쏘샘', '독서논술명지국제학원 미쏘샘 스타벅스 5층'],\n ['예곰', '디노를 꿈꾸며'],\n ['BBoM', '디자인하나봄'],\n ['cm', 'cm의 car&IT'],\n ['car mania', '게임,자동차,모형차 블로그 welcome~'],\n ['cm', 'cm의 car&IT'],\n ['소소쩡', '소소한이야기 쩡'],\n ['gracefulway', 'ARIA COMPANY'],\n ['예지바라기', '소박하게.'],\n ['반짝반짝ㅣ루비', '반짝반짝 빛나고 싶은 작은 소녀의 일상 블로그'],\n ['이니', '서확행'],\n ['모락 요리공방운영', 'Food, Living,Travel,food Director..에이스'],\n ['예지바라기', '소박하게.'],\n ['반짝반짝ㅣ루비', '반짝반짝 빛나고 싶은 작은 소녀의 일상 블로그'],\n ['이니', '서확행'],\n ['Stella kim', '카레라이스의 여자.'],\n ['튼튼해짐 박쌤', '튼튼해짐 PT STUDIO'],\n ['영공생', '부동산 맛집'],\n ['반짝반짝ㅣ루비', '반짝반짝 빛나고 싶은 작은 소녀의 일상 블로그'],\n ['MINECRAFT', 'MINECRAFT 블로그'],\n ['이니', '서확행'],\n ['Stella kim', '카레라이스의 여자.'],\n ['튼튼해짐 박쌤', '튼튼해짐 PT STUDIO'],\n ['영공생', '부동산 맛집'],\n ['김유신', '김유신의 글쓰기연구소♥일상 소통 블로그'],\n ['반동결S 믐달씌', '어머,착각하지마세요☆'],\n ['Stella kim', '카레라이스의 여자.'],\n ['튼튼해짐 박쌤', '튼튼해짐 PT STUDIO'],\n ['영공생', '부동산 맛집'],\n ['김유신', '김유신의 글쓰기연구소♥일상 소통 블로그'],\n ['리꿍', '마조리꿍 레시피북'],\n ['용룡이', '용룡이의 블로그'],\n ['WOB I 보이보이', 'WOB 멤버 보이보이의 블로그'],\n ['튼튼해짐 박쌤', '튼튼해짐 PT STUDIO'],\n ['영공생', '부동산 맛집'],\n ['김유신', '김유신의 글쓰기연구소♥일상 소통 블로그'],\n ['리꿍', '마조리꿍 레시피북'],\n ['용룡이', '용룡이의 블로그'],\n ['작좀쓰', '작!은!좀!비!'],\n ['용룡이', '용룡이의 블로그'],\n ['신코란', '새로운 소설 연재 시작'],\n ['작좀쓰', '작!은!좀!비!'],\n ['강릉서핑강습소', '파도속으로'],\n ['핑클핑클', '언제나 사랑스런 핑클핑클이랍니다.'],\n ['에디터 B', '보글보글'],\n ['블루트리', '블루트리의 레고 공작소'],\n ['채현', 'Jungchaehyun_'],\n ['정원마을빵집', '정원마을빵집'],\n ['여애수', '이름 없는! 황혼의! 휴식~쉼터 !!'],\n ['힐링최면심리상담센터', '힐링최면심리상담센터'],\n ['mais78', 'mais78님의 블로그'],\n ['geul20_8_3', 'Notre écriture'],\n ['나율', '꿈뜰이'],\n ['나율', '꿈뜰이'],\n ['로또기맘 수지님', '오구오구♡ ILJI.HY'],\n ['츠윗', '츠윗의 블로그'],\n ['곰세마리', '대학생의 허무한 한마디'],\n ['솜사탕l꽃가람 바라기', '상처받기 싫어 상처를 주었다 ...'],\n ['BH3D조형학원', '[BH3D] 3D프린터,피규어제작,구체관절인형제작'],\n ['진숑이', '진숑이 블로그'],\n ['경블리', '보고, 듣고, 느끼고'],\n ['구팔이', 'eoego'],\n ['kyungspapa', '드림쇼파'],\n ['하룽씨', '하룽씨의 일상^^*'],\n ['박 깜', '+ 2017.08.28'],\n ['카마도 오월', 'five월의 블로그'],\n ['몽상가', '항상 건강하고 행복하길~♡'],\n ['rlgnsl09', '우리누리예뻐!'],\n ['차오름연구원1', 'chaoreumlab님의블로그'],\n ['Soo', '영원'],\n ['다듬애드', '바이럴마케팅의 모든 것'],\n ['nhy778', 'nhy778님의 블로그'],\n ['식이행님', '平静'],\n ['마담리썬샤인', '마담리썬샤인'],\n ['세라', '세라의 일상 블로그'],\n ['세나 하루카', '만약 다시 태어난다면'],\n ['저녁그림러', '저녁그림러 컨휴블로그'],\n ['킴스골드', '킴 스 골 드'],\n ['혜원', '헤오니 공간'],\n ['Severus Stark', 'Stark Blog Industries'],\n ['Junker', '가까운 곳에 있는 행운'],\n ['아연맨', '아연맨 | Zincman™'],\n ['Junker', '가까운 곳에 있는 행운'],\n ['사랑', 'zibb님의 블로그'],\n ['설화량', '언젠간 내 마음을 솔직하게 털어놓고 싶을때가 많다'],\n ['김지연더불어사람', '더울문화예술교육협동조합의 김지연입니다.'],\n ['PORTI', \"'돌반지계의 까르띠에' 뽀르띠-돌반지전문브랜드\"],\n ['청룡ㅣ복귀', '지옥의 드래곤 던전에 오신것을 환영합니다'],\n ['다하라', '다하라 By 멋진'],\n ['PORTI', \"'돌반지계의 까르띠에' 뽀르띠-돌반지전문브랜드\"],\n ['청룡ㅣ복귀', '지옥의 드래곤 던전에 오신것을 환영합니다'],\n ['유재석예뻐', 'yelowpink님의 블로그'],\n ['태희사랑', 'cherry9292님의 블로그'],\n ['WARSAW', 'WARSAW'],\n ['루차 LUCHA', '정신나간 블로그'],\n ['WARSAW', 'WARSAW'],\n ['루차 LUCHA', '정신나간 블로그'],\n ['생생유자차', 'SUN OF JULY☀'],\n ['리챠드', '리챠드 1 1706'],\n ['ㅈㅇㅇ', '⋆⁺₊⋆ ⁺₊⋆ ♡̷̷̷'],\n ['태싹이꿀벌왕 허니', '태싹이꿀벌왕 허니와 즐거운 소설'],\n ['박하사탕', '맛없는 박하사타앙'],\n ['박하사탕', '맛없는 박하사타앙'],\n ['Roa', 'Roa'],\n ['지산의 태양', 'itt7714님의블로그'],\n ['최송희', '나만의 일기장'],\n ['앞짱구', '썾이 일기장'],\n ['낌지', '낌지의 일대기'],\n ['WOBㅣjunjun', 'junjunXRyan'],\n ['평원', 'plain1588님의블로그'],\n ['앞짱구', '썾이 일기장'],\n ['낌지', '낌지의 일대기'],\n ['WOBㅣjunjun', 'junjunXRyan'],\n ['젤나 대추', '보은 젤나 왕대추농원'],\n ['자스', '자신남의 스포츠'],\n ['자이로', '노시인, 책과 함께 나누는 세상 이야기'],\n ['이소', 'ㄴ이소네 로블록스 리뷰블로그ㄱ'],\n ['WOBㅣjunjun', 'junjunXRyan'],\n ['젤나 대추', '보은 젤나 왕대추농원'],\n ['자스', '자신남의 스포츠'],\n ['자이로', '노시인, 책과 함께 나누는 세상 이야기'],\n ['티파니러브', '티파니러브의 Dnf & Maple 블로그'],\n ['자체냥체중ㅣ블로', '밈러&그림블&소설블'],\n ['자이로', '노시인, 책과 함께 나누는 세상 이야기'],\n ['옐로운', '옐로운의 스케치북'],\n ['티파니러브', '티파니러브의 Dnf & Maple 블로그'],\n ['자체냥체중ㅣ블로', '밈러&그림블&소설블'],\n ['의두', '\"조금식 희미해질때까지.\"'],\n ['꿈이', 'yusin016님의 블로그'],\n ['안쥐', '희망팩토리blog / 팝아트,커플아이템,부모님선물'],\n ['EL', 'YE'],\n ['꿈이', 'yusin016님의 블로그'],\n ['안쥐', '희망팩토리blog / 팝아트,커플아이템,부모님선물'],\n ['백사자', '백사자의 비정상적인 게임,만화 블로그'],\n ['고니예니맘', '매일 매일이 소중한 오늘'],\n ['몽상가', '몽상가들'],\n ['Jaen i', '새로운 관점으로 보는 세상'],\n ['사라', 'Jlog'],\n ['몽상가', '몽상가들'],\n ['Jaen i', '새로운 관점으로 보는 세상'],\n ['스퍽', '일상&게임블'],\n ['빨간포도', 'YOU AND I, LOVE'],\n ['혜오니', '❄️･｡ SNOW HOUSE ｡･❄️'],\n ['엄지척헤라', '손바느질로 벤츠타는 여자'],\n ['로마', 'laala001님의블로그'],\n ['Jaen i', '새로운 관점으로 보는 세상'],\n ['스퍽', '일상&게임블'],\n ['빨간포도', 'YOU AND I, LOVE'],\n ['혜오니', '❄️･｡ SNOW HOUSE ｡･❄️'],\n ['엄지척헤라', '손바느질로 벤츠타는 여자'],\n ['스텔라', 'everything_simply_'],\n ['써니가읽어주는성경', '써니가읽어주는성경'],\n ['Jaen i', '새로운 관점으로 보는 세상'],\n ['스퍽', '일상&게임블'],\n ['빨간포도', 'YOU AND I, LOVE'],\n ['혜오니', '❄️･｡ SNOW HOUSE ｡･❄️'],\n ['엄지척헤라', '손바느질로 벤츠타는 여자'],\n ['스텔라', 'everything_simply_'],\n ['별이', '낮에 빛나는별~☆'],\n ['빨간포도', 'YOU AND I, LOVE'],\n ['혜오니', '❄️･｡ SNOW HOUSE ｡･❄️'],\n ['엄지척헤라', '손바느질로 벤츠타는 여자'],\n ['스텔라', 'everything_simply_'],\n ['미나', '은은하고 소소한 일상 이야기'],\n ['소저이', 'Amapola'],\n ['소저이', 'Amapola'],\n ['새봄', '녹아드는 간격'],\n ['아에이오우', '탱탱구리네'],\n ['뺙삐', '뺙삐로그'],\n ['청송순금상패', '청송순금상패 공식블로그'],\n ['소현', '소현의 자유로운 덕질블로그'],\n ['아쿠아', '.'],\n ['쇼콜라비', '쇼콜라비 뷰티&패션을 말하다.'],\n ['nj23cf2uc8e7', 'nj23cf2uc8e7님의블로그'],\n ['박고양이', '박고양이가 건강하게 일하는 이유'],\n ['작은맘', '작은맘의 일상 - 육아/건강'],\n ['신상FLOWER', '행복을 전하는 꽃집 :: 신상플라워'],\n ['동그름', '름로그'],\n ['하늘호수의세상이야기', '하늘호수의 세상이야기~'],\n ['하늘호수의세상이야기', '하늘호수의 세상이야기~'],\n ['민댕이', '민댕이의 일상'],\n ['leedscapsule', '리즈캡슐'],\n ['SUNshine', \"I'm Ur SUNSHINE :D\"],\n ['컬러인터랙터 영배우', '휴인터랙트'],\n ['덕담지기', '덕담펜션'],\n ['미지수', '사유와 감성이 깃든 공간'],\n ['신데렐라의플로리스트', '신데렐라의꽃(꽃배달,여자친구100일선물,장미100송이'],\n ['최매력', '냐옹냐옹최매력☆뷰스타'],\n ['GOTO면목최윤정PT', '고투 면목, JJ'],\n ['짱돌박사', 'zzang0572님의 블로그'],\n ['요안나', '요안나의 행복이팍팍'],\n ['스테디 제이', 'All is well'],\n ['네트라핌', '상상속의세상'],\n ['파인플라워', '꽃이야기 \"파인플라워\"'],\n ['땡초', '땡초의 알싸한 이야기 : )'],\n ['이쮸링', 'lovely 슬❤️'],\n ['뽀글여사', '구미 아파트분양'],\n ['캘리그라퍼 돼지', '돼지그라피'],\n ['가에', '그때뭐했지'],\n ['하이디랑', '하이디랑'],\n ['이즈백 써니', '알콩달콩 살아가는 부부이야기♡'],\n ['낑낑이', '왁자지껄한 단호박 낑줌마네'],\n ['naeun life', '더 나은생활'],\n ['뽀앤뚜', '뽀&뚜의 Life Story'],\n ['게으른공대생', '無'],\n ['신데렐라의플로리스트', '신데렐라의꽃(꽃배달,여자친구100일선물,장미100송이'],\n ['그림과과학러버', '반휴블ㅣ가장 어두운 밤은 가장 밝은 별을 만든다'],\n ['미자', '우꺄꺄꺅 메에로오옹'],\n ['고수덩수덩', '크리스탈 라이프스타일’s'],\n ['윤정화 컨설턴트', '건강하고 행복한 팔색조 라이프!!'],\n ['코코냥', '코코냥❤ 햄볶는 신혼생활'],\n ['뱃심디디', '하루하루 성장하는 뱃심디디'],\n ['임매티', '매티 임의 우당탕탕 일상'],\n ['마스타', 'For 경제적인 자유'],\n ['파란', '[一切唯心造]'],\n ['풍차댁 거창', '거창 월성계곡'],\n ['쿠잉한나', '달콤할 나의미래'],\n ['청송순금상패', '청송순금상패 공식블로그'],\n ['요리 천재', '요리하는여행바라기'],\n ['ellie', '소소한 엘리짱,'],\n ['김작가', '김작가의 전지적 여행시점'],\n ['ellie', '소소한 엘리짱,'],\n ['김작가', '김작가의 전지적 여행시점'],\n ['수땡', \"ᴄ'ᴇsᴛ ʟᴀ ᴠɪᴇ\"],\n ['haeseason', 'notre saison'],\n ['oastp0231', 'oastp0231님의블로그'],\n ['소중한걸', '영원한 사랑~!'],\n ['가을동화', '은서표 꼼지락 이야기~^^'],\n ['원이랑 은이랑', '원이랑 은이랑 만들어가는 알콩달콩 블로그'],\n ['직지스타이진희 3383', '청주이진희3383'],\n ['오늘도 빛나리', '오늘도 빛나는 하루❤'],\n ['별말씀', '별별별일상'],\n ['가비쓰', \"Agir Aujourd'hui\"],\n ['스마일나나', '스마일나나'],\n ['샐리', '씨씨네 다이어리'],\n ['비', 'Raining Cats and Dogs'],\n ['럭키 Momo', '럭키 크리에이터 MOmo'],\n ['뽀약다온', '꾸준한 삶의 발명₩$₩'],\n ['5bongfarm', 'LUMI FARM'],\n ['닥터송', '병원컨설팅 병원마케팅 닥터송'],\n ['Kleinmeister', '감잡은 날'],\n ['채니채아', '* * *'],\n ['Bbi', '꽃같은 인생'],\n ['조커교 사제ㅣ주카', '눈누난나~'],\n ['십이월', '♥그리스도만 섬기는 작은 천국♥'],\n ['하림', '나만 보는 내 일상'],\n ['타워팰리스', 's603603님의블로그'],\n ['유연', '유연한 하루'],\n ['다은', '다사롭고 은은한'],\n ['유연', '유연한 하루'],\n ['다은', '다사롭고 은은한'],\n ['아이지', '아이지의 블로그'],\n ['우드트로피 페비', '우드트로피 페비'],\n ['소최미', '알콩달콩'],\n ['후춧가루', '_sj.daily_'],\n ['naeun life', '더 나은생활'],\n ['여니짱', '나 너, 그리고 우리의 이야기'],\n ['스켈', 'Welcome to my workshop'],\n ['유유', 'yuivui_유유'],\n ['마타하리', '연재가 사는 세상'],\n ['해 봉', 'DO BONG LIFE'],\n ['허니', '허니허니'],\n ['rimrim', '만드는 일상'],\n ['cashmere', 'only for'],\n ['현석', '현석이와 진영이의 결혼이야기!!'],\n ['차니', '차니의 소소한 일상'],\n ['영롱하개', '영롱님의 블로그♡'],\n ['TIAM', 'vítejte, můj dům'],\n ['어지러움', '멘탈붕괴!! 멘붕멘붕'],\n ['꾸보', '꾸보놀이터'],\n ['이뚜비', '뚜비 FLEX'],\n ['로즈퍼플', 'Rosepurple~^^'],\n ['타미플루', '波瀾萬丈 - 정신없는 타미플루의 블로그'],\n ['깨비깨비', '깨비의 스마트한 세상 만들기'],\n ['동글이', '동글동글'],\n ['예쁜사과', '매일매일 좋은하루'],\n ['디디슈', '디디슈의 육아별 이야기'],\n ['린이', '김푼수의 왕초보 야매 육아'],\n ['크리스탈존', '크리스탈존 공식블로그[Crystalzone]'],\n ['맹두', 'ฅ^._.^ฅ'],\n ['놀라운 녀석', '지혜삶.기. (지혜로운 삶의 기술/ 삶의 기록)'],\n ['뚱쓰', '그리움에 젖은 편지'],\n ['QoQo', '빼빼의 스마트 블로그'],\n ['tamysong', 'tamylog'],\n ['홈네일 양양2호', '홈네일 양양2호의 공간'],\n ['멍멍백구', '뭐든 느껴야 돼.'],\n ['며느리집승배상회', '며느리집(승배상회)'],\n ['금길', '금길의 디자인놀이터'],\n ['엘비', '엘비의 슬기로운 제주생활'],\n ['88xbillionsglory', 'Faithful To The End'],\n ['뿌야뿌', '우리들의 일상스토리'],\n ['나', '육아중인 나'],\n ['뿌야뿌', '우리들의 일상스토리'],\n ['김note', '흐르는 강물처럼'],\n ['쓰담친구절미', '인절미의 강원라이프'],\n ['chollenger', 'chollenger'],\n ['영호인생실록', '영호실록, 내 모든 것을 담다'],\n ['다락방자전거', '骨草다락이'],\n ['다락방자전거', '骨草다락이'],\n ['엘리시스 지크하트', '슬비티나미래 True Love ♡ Bellrose Channel'],\n ['02fnfl05', '영오 루리 블로그'],\n ['정시박사 정 시인', '자퇴 사무실'],\n ['전학생', '자유의 날개'],\n ['오월의 봄날', '오월의 봄날'],\n ['초코퐁듀쿠키', '초코퐁듀쿠키'],\n ['푸우아저씨', '초야에 묻혀 세상을 품다'],\n ['뚱띠2호', '느낌충만 그녀의 공간'],\n ['니맘내맘', '간호사와 미용사 사이'],\n ['Chloe', 'do whatever you want'],\n ['문열정', '문열정의 맑은 빛'],\n ['신데렐라의플로리스트', '신데렐라의꽃(꽃배달,여자친구100일선물,장미100송이'],\n ['밀크로즈', '손바닥 정원'],\n ['백마', '오메가'],\n ['Holydiver', '징기스칸과 킹콩'],\n ['나혼자산다', '나혼자산다'],\n ['해찌미르', \"(*'ω'*)\"],\n ['후드리챱챱', '식도락 여행기'],\n ['키즈엔젤', '명성교육 어린이집 컨설팅'],\n ['꿈꾸는달', '살구나무의 마당'],\n ['목연', '국어샘 목연'],\n ['호아', '❤.. ♬ ..! 호아 *_*'],\n ['깜찌기스을', '무지개우산 in 깜찌기스을'],\n ['nstgr', '등불님의 블로그'],\n ['솜결테라피 우솜결', '솜결 테라피'],\n ['인사동 수제도장 토독', '토독공방'],\n ['일당백대선', 'Put On a HAPPY fACE'],\n ['일당백대선', 'Put On a HAPPY fACE'],\n ['아는 여자', '사랑을 아는 여자'],\n ['Yang', 'Just like Yang'],\n ['복돼지성소장', '복돼지성소장의 부동산이야기'],\n ['민깡총', '깡총아, 뭐 하니?'],\n ['허 베드로', \"♥~'허 베드로와 다롱이'~♥\"],\n ['모우', '바람의 그림자'],\n ['뿌야뿌', '우리들의 일상스토리'],\n ['채은 현준 아빠', '파워토탈케어님의블로그'],\n ['다다롱', '다다롱의 솔직달달한 공간♥'],\n ['Blue Dragon', '두남씨의 늦깎이 도전기'],\n ['백샘', '백샘의 책라이프'],\n ['잡초', '山 何 天 ㅡ 약 초'],\n ['나나', \"Nana's kitchen\"],\n ['늙은 소녀', '소녀의 낡은 서랍'],\n ['장매력', '장매력의오릇한일상'],\n ['쥬르드쥬아', 'Jour de joie'],\n ['eocldgo', 'all my logs'],\n ['솔트', '몀스블로그'],\n ['GreenMolly', 'naturemolly'],\n ['턱돌이', '사랑하는 사람들을 위하여'],\n ['GreenMolly', 'naturemolly'],\n ['턱돌이', '사랑하는 사람들을 위하여'],\n ['가장쉬운일본어', '일본어강의하는제약영업人'],\n ['김백합', '추억 따위 필요없어'],\n ['테레시아', '스위트 쇼트케이크'],\n ['직진인생', 'EU&OSUNG'],\n ['책꽃송', '[책꽃]끝없는 인연'],\n ['직진인생', 'EU&OSUNG'],\n ['책꽃송', '[책꽃]끝없는 인연'],\n ['달공장', '달공장 소소하게 만드는 감성소품 T. 0507-1410-6064'],\n ['성실한나라의단아', '단아의 별 ☆'],\n ['신 맥가이버', '안전한 열쇠로 여는 세상 이야기 010-8787-7743'],\n ['다욧짱', '다욧짱'],\n ['마인드페이지', '심리상담 마인드페이지'],\n ['다소니', 'ksamfm님의블로그'],\n ['승승v', 'HAppY DaYs'],\n ['뀨쌤', '뀨쌤이랑 공부해요 :3'],\n ['고인돌', '고인돌의 실용주의 캠핑'],\n ['그랜저', 'ㅤ'],\n ['cococcy', 'today haru'],\n ['휴식', '-'],\n ['Kittykitty', 'H'],\n ['cococcy', 'today haru'],\n ['휴식', '-'],\n ['녕녕2', 'Luce sicut stellae'],\n ['희날', '趣向'],\n ['민트럽', '행복이 가득 하세요!'],\n ['하품담은느낌', '하품담은느낌 님의블로그'],\n ['으른감성', 'woosh0916님의블로그'],\n ['절세미인', '어린왕자의 지구별이야기~!!'],\n ['코큰공작부인', '전통 매듭을 사랑하는 공작부인'],\n ['어둠의귀신', 'BE GUNPLA'],\n ['밥양', '밥양의 Full House'],\n ['류 병은', 'beryu1(류병은)님의 블로그'],\n ['Suzie', 'suzie님의블로그'],\n ['amy1975', 'amy1975님의블로그'],\n ['잡식이', '잡다한 지식 이야기'],\n ['성공창업스토리', '성공창업스토리 1:1 맞춤 창업컨설팅'],\n ['satellite', '아무말중'],\n ['여행이야기', '여행이야기'],\n ['뷰로미', \"wellab's curating\"],\n ['지젤', '바이지젤 ㅣ BY ZIJJEL'],\n ['담태비', '담비태비네'],\n ['별솔다온', '오늘이 좋습니다.♡.'],\n ['하슬림', '인생은 살이 쪘을때와 안쪘을때로 나뉜다'],\n ['팡팡', 'pang pang'],\n ['리움매니저', '수족관/어항 전문제작업체 리움 블로그입니다.'],\n ['또치', '뭐라도 하고픈 또치'],\n ['뮐러코리아', 'SEIFFEN_HAUS'],\n ['pasomark', '파소막'],\n ['Ronaldo', '나와 함께 걷지 않으련'],\n ['레슬리', \"레슬리's 베러 라이프\"],\n ['rest 틸다', '한번쯤은 나를 위해'],\n ['신데렐라의플로리스트', '신데렐라의꽃(꽃배달,여자친구100일선물,장미100송이'],\n ['루나르안', '달쥐의 블로그'],\n ['신데렐라의플로리스트', '신데렐라의꽃(꽃배달,여자친구100일선물,장미100송이'],\n ['쫑긋 귀', '깊은산속 옹달샘'],\n ['발랄소녀', '홍청숙'],\n ['서나', 'bring me a dream'],\n ['H A R U', '반블접'],\n ['미스터소다', '미스터소다의 톡쏘라이프'],\n ['홍코코', '홍코코의 일상정리 단순생활'],\n ['레몬향', 'Butchart garden'],\n ['쪼코', '쪼코의 해외직구&쇼핑정보통♬'],\n ['vision', 'vision'],\n ['엄마는만화덕후룽', '경험, 아이에게 행복함을 주는 긍정엄마/만화덕후/룽'],\n ['가람', 'DONE'],\n ['스낭낭', '스낭낭의 뷰티이야기'],\n ['이구아', '빛이 나지 않는 시간조차도,'],\n ['신데렐라의플로리스트', '신데렐라의꽃(꽃배달,여자친구100일선물,장미100송이'],\n ['플라워 힐링', '플라워 힐링 여행'],\n ['kkokko', \"꼬꼬's 일과 일상 블로그\"],\n ['황금 빛', '이 또한 아름답지 아니한가'],\n ['앨리스키친', '이상한 부엌의 앨리스'],\n ['바람처럼', 'sunshine6812'],\n ['시맷돌', '시가 있는 시간 ♬'],\n ['이노스펫', '이노스펫 EnosPet'],\n ['미리티쳐', '동동이세계'],\n ['뷰티칼라', 'Beauty CALA'],\n ['GrayBlue', 'GrayBlue의 일상'],\n ['김 작심', '김집사와 냥아치4 하루^^♡'],\n ['불사조', 'kgsoo7022님의블로그'],\n ['명왕비', '40을 맞이하는 마음'],\n ['투명지킴이 조부장', '투명지킴이 조부장의 먹는 인생'],\n ['살면서 이쁘게', '오늘은 니가 예쁨'],\n ['도도맘 짱수', \"[sj's] zzang soo...36♥\"],\n ['Filter', '필터 ; 글이 머무르는 공간'],\n ['김세일', '느티나무 아래에서'],\n ['뷔블랑', 'VUE BLANC :D'],\n ['겸두리맘', '김내일캐리'],\n ['유태윤', '잠시 쉬어가도 괜찮아. 아무도 뭐라 하지 않아.'],\n ['silvia', '-'],\n ['나래', \"나래's 일상의 기록\"],\n ['수빈마미', '꼼냥꼼냥 김알쓰'],\n ['하뜌', '2 0 2 0 D i a r y'],\n ['초록별', '그린공간'],\n ['엔조천사', '엔조 블로그'],\n ['하늘추억', '깜찍발랄 또니와 함께하는 행복한 이야기★'],\n ['부동산 분양 정보공유', '부동산 분양상품 리뷰'],\n ['다솜쁘띠', '작지만 사랑스러운 다솜쁘띠:D'],\n ['bold57', 'A good process is ...'],\n ['금산', '앵글 속의 아름다운 세상'],\n ['도톨수', '삶의이유'],\n ['송이맘', '어쩌다 엄마! 송이맘의 평범한 육아일기'],\n ['hannah', 'sensibility'],\n ['혜원', 'Quien no arriesga, no gana nada.'],\n ['블루알파', '블루알파의 스마트리뷰'],\n ['귀여운 먹깨비', 'love7hees님의블로그'],\n ['tigermom', 'cutietiger 책,그릇,사는이야기'],\n ['여울누리', '유기그릇 여울누리 공식블로그'],\n ['BBL 힙업성형 키닥터', 'BBL 힙업골반성형 키닥터'],\n ['빈라면', '빈라면이라면'],\n ['푸우아저씨', '초야에 묻혀 세상을 품다'],\n ['노마드캘리', 'about 캘리그라피'],\n ['삼월이네', '행복한일상♡'],\n ['돌스냅LBSphoto', \"LB'S photography\"],\n ['김식혜', '식혜네 일땅'],\n ['테슬라', '식도락♡소확행'],\n ['Muhammad Ali', '영원한복서'],\n ['라니의 공간', '라니님의블로그'],\n ['김조커', '김조커의 팩트(Fact)'],\n ['비니빔', '비니빔의 일상/취미 블로그'],\n ['폴사이돈', 'UNIQ Corporation : Build, Draw, and Review'],\n ['진뱅아이', '♡아이셋맘 진뱅아이♡'],\n ['스몰다트', '스몰다트(북극성)의 행복 충전소'],\n ['부산홈오토', '부산비디오폰|부산도어락 설치는 부산홈오토'],\n ['황지방구', '황지방구는 오늘도,'],\n ['하리의 뜰', '하리의 뜰안'],\n ['이무', '이무이무이무이무'],\n ['tianshi', '우주가 사라지는 그 날'],\n ['e베이비랜드 blog', 'e베이비랜드-셀프백일상,케이크토퍼,생일파티용품'],\n ['조아맘', '조아맘의 리뷰로그'],\n ['현쩌리', '돼지에서 사람이 되는중'],\n ['HeeMom', \"Hee&Mom's House.\"],\n ['제인', 'Nevertheless,'],\n ['대선', '대선주조 공식 블로그'],\n ['엔조천사', '엔조 블로그'],\n ['케이원캠핑', '케이원캠핑'],\n ['총각네종합설비 대표', '총각네종합설비 정직하고 착한가격 010-8676-3516'],\n ['마스터인넷', 'MIN'],\n ['루비셀러 케로미', '불로미인들의 비밀 루비셀'],\n ['감자도리', '감자도리의 퀼트 그리고 힐링타로 이야기'],\n ['송구리', '송구리당당 송당당'],\n ['레이와 시대', '웃음땅(Happyland)'],\n ['고집남', '고집남의 블로그'],\n ['보노송아빠', '바람아~구름아~'],\n ['소풍하는 지니', '건강을 선택해'],\n ['밀키웨이', '리얼체험육아실전서, milkyway.'],\n ['자유의 다람쥐 포수', '락 헤이븐 (lock heaven)'],\n ['그리고설렘', '세종시화실 / 그리고설렘'],\n ['레이와 시대', '웃음땅(Happyland)'],\n ['캔들워머공작소', '캔들워머공작소'],\n ['하루', '하루 끝'],\n ['sso', '훙냐냐 (:3_ヽ)_'],\n ['MARCO', 'Failure is an option - 실패는 하나의 옵션이다'],\n ['임튤오', '임튤오의 브이로그 :*)'],\n ['보보', '환타컬렉터'],\n ['꼰내', '꼰내의 하루 :>'],\n ['CieloA', 'Just.'],\n ['뮐러코리아', 'SEIFFEN_HAUS'],\n ['김씨와 땀나는북극곰', '김씨의 수다놀이터 x 크리스탈의 잡다한 블로그'],\n ['밍블', '밍블'],\n ['Maza', 'Maza`s Trace'],\n ['헌터의 문수리', '다원 강화도어 1600-1184'],\n ['광주신세계안과', '광주 신세계안과'],\n ['상자', '2019년 2월 3일부터 지금까지'],\n ['WON', '팬픽쓰는 중딩'],\n ['푸우아저씨', '초야에 묻혀 세상을 품다'],\n ['민블리', '민블리의 소소한 일상'],\n ['joojoo', '어서오세요'],\n ['끼끼유', '끼끼유월드'],\n ['삼월이네', '행복한일상♡'],\n ['mcc', 'M.C.C(중딩의 만화 컴퍼니)의 블로그'],\n ['해피 애프터눈', '해피의 어학연수 Story'],\n ['김note', '흐르는 강물처럼'],\n ['Happy 리리', 'パーフェクト·フィナーレ'],\n ['아니다', '사는게 사는게 아니라고 생각했다'],\n ['리아', \"리아 일상 블로그('ω')\"],\n ['떠돌이의눈', '떠돌이의눈(n-o-o-n)'],\n ['레모네이드', 'Lemon Cat'],\n ['grace', '사랑스러운 2019년'],\n ['아리아444', '그림 그리는 인간'],\n ['캔들워머공작소', '캔들워머공작소'],\n ['공인중개사 곽민혁', 'By,곽'],\n ['서연필', '파란 세상'],\n ['MW', '뭘 걱정해, 우린 둘인데.'],\n ['문선생', '문선생의 Wit Life'],\n ['정직한총각네 대표', '정직한총각네~총각네종합설비 010-8676-3516'],\n ['이재현팀장', '보험을 연구하는 사람들'],\n ['사피', '모노로그'],\n ['뷰다나', '아름다운 일상, 뷰다나 공간'],\n ['그리니', '그리니의 소소한 이야기'],\n ['푸른아이', \"Like a moment of one's life\"],\n ['하루', '-'],\n ['닭털', '펭귄마을'],\n ['글쓰는 앵무새 쪼쪼리', '물갈 참여 안함.물갈할 꺼면 하세요.'],\n ['교회오빠', '교회오빠'],\n ['오너김구', '김코몽의 블로그'],\n ['초담', '12분의 7 정도 휴블 중'],\n ['곰돌이 Gomdolri', '잡덕파라에 온걸 진심으로 환영해'],\n ['넨디아', '[ 급구 ] 같커구함'],\n ['필테스', '저의 때가 언젠간 오겠죠'],\n ['늘이', '늘로그'],\n ['거북이', '실버창원부동산'],\n ['Mrs스티치', '미세스스티치의 호기심 상자'],\n ['심심한아리엘', '아리엘의 블로그 취미시작반'],\n ['olivia2020', 'olivia2030님의블로그'],\n ['달빛소리', '국악이 있는 곳~웰컴!!'],\n ['유레에카아', '유레에카아'],\n ['수원여자대학교', '함께하는 마음 나누는 재능 사회공헌대학 수원여대'],\n ['만원부부', '만원부부의 아름다운 이야기'],\n ['먹보돼지', '당근바라기 님의 블로그'],\n ['상상의정원', '상상의정원'],\n ['삼월이네', '행복한일상♡'],\n ['반해별', '예뻐서 반해'],\n ['rorosmart', 'GT글라스원주'],\n ['융공장장', '융팩토리'],\n ['늑대쿤', '아~~ 녹차 마시고 싶다'],\n ['자비심', '돈벌어주는아줌마'],\n ['비비안', '비비안의 꿈이 있는 일상'],\n ['곤타곰', '곤타곰의 블로그'],\n ['꾸준히', '시나브로'],\n ['신데렐라의플로리스트', '신데렐라의꽃(꽃배달,여자친구100일선물,장미100송이'],\n ['김퐁퐁씨', '김퐁퐁씨의 맨즈 뷰티프리티소사이어티'],\n ['전쥬부', '쌍둥이맘 블로그'],\n ['신데렐라의플로리스트', '신데렐라의꽃(꽃배달,여자친구100일선물,장미100송이'],\n ['승훈원장', '꿈꾸는 헤어'],\n ['밍슐랭', \"밍's 꽁냥꽁냥 스토리\"],\n ['우산쟁이', '모든이에게 행복'],\n ['상냥한 맘', '전주 한옥마을 해맑은 이야기'],\n ...]"
     },
     "metadata": {},
     "execution_count": 12
    }
   ],
   "source": [
    "nicks =[]\n",
    "for i in range(0,550):\n",
    "\n",
    "    try:\n",
    "        #페이지\n",
    "        Url = 'https://section.blog.naver.com/HotTopic.nhn?seq=724447&orderBy=sim&currentPage=%d' %(i+1)\n",
    "        driver.get(Url)\n",
    "        time.sleep(0.3)\n",
    "\n",
    "        for j in range(1,8):\n",
    "            # 닉네임 가져오기\n",
    "            a = driver.find_element_by_xpath('//*[@id=\"wrap_search_list\"]/div[2]/div[%d]/div/div[1]/a/em' %j).text\n",
    "            # 블로그제목 가져오기\n",
    "            b = driver.find_element_by_xpath('//*[@id=\"wrap_search_list\"]/div[2]/div[%d]/div/div[1]/span' %j).text\n",
    "            # a = a.replace('\\n','')\n",
    "            # a = a.replace('#','')\n",
    "            nicks.append([a,b])\n",
    "            #print(a)\n",
    "            #print(b)\n",
    "\n",
    "    except NoSuchElementException:\n",
    "        driver.get(\"https://section.blog.naver.com/HotTopic.nhn?seq=724446\")\n",
    "\n",
    "# df = pd.DataFrame(result.items(), columns = ['movie_id' , 'reviews'])\n",
    "# df.to_csv('result_1.csv', index =False, encoding=\"UTF-8-sig\")\n",
    "nicks"
   ]
  },
  {
   "cell_type": "code",
   "execution_count": 14,
   "metadata": {},
   "outputs": [
    {
     "output_type": "execute_result",
     "data": {
      "text/plain": "              닉네임                블로그이름\n0           그림자궁전     ★ 나를 찾아 떠나는 여행 ☆\n1         다욧코치은하수      옆집맘의 마지막 다욧 도전기\n2              나로      나로의 LP music ~!\n3            액션꽁주        액션꽁주의 행복한 이야기\n4           hi 하이     Hi Shanghai Life\n...           ...                  ...\n3201       꿈꾸는 자리            바람이 머무는 곳\n3202          반짝이               반짝이블로그\n3203  안양 평촌 군포꽃배달  꽃이있는풍경☏031-447-9466\n3204          루어씨         화장품을 읽어주는 요자\n3205      행복한 꿈지기           ♣ 황금시티부동산♣\n\n[3206 rows x 2 columns]",
      "text/html": "<div>\n<style scoped>\n    .dataframe tbody tr th:only-of-type {\n        vertical-align: middle;\n    }\n\n    .dataframe tbody tr th {\n        vertical-align: top;\n    }\n\n    .dataframe thead th {\n        text-align: right;\n    }\n</style>\n<table border=\"1\" class=\"dataframe\">\n  <thead>\n    <tr style=\"text-align: right;\">\n      <th></th>\n      <th>닉네임</th>\n      <th>블로그이름</th>\n    </tr>\n  </thead>\n  <tbody>\n    <tr>\n      <th>0</th>\n      <td>그림자궁전</td>\n      <td>★ 나를 찾아 떠나는 여행 ☆</td>\n    </tr>\n    <tr>\n      <th>1</th>\n      <td>다욧코치은하수</td>\n      <td>옆집맘의 마지막 다욧 도전기</td>\n    </tr>\n    <tr>\n      <th>2</th>\n      <td>나로</td>\n      <td>나로의 LP music ~!</td>\n    </tr>\n    <tr>\n      <th>3</th>\n      <td>액션꽁주</td>\n      <td>액션꽁주의 행복한 이야기</td>\n    </tr>\n    <tr>\n      <th>4</th>\n      <td>hi 하이</td>\n      <td>Hi Shanghai Life</td>\n    </tr>\n    <tr>\n      <th>...</th>\n      <td>...</td>\n      <td>...</td>\n    </tr>\n    <tr>\n      <th>3201</th>\n      <td>꿈꾸는 자리</td>\n      <td>바람이 머무는 곳</td>\n    </tr>\n    <tr>\n      <th>3202</th>\n      <td>반짝이</td>\n      <td>반짝이블로그</td>\n    </tr>\n    <tr>\n      <th>3203</th>\n      <td>안양 평촌 군포꽃배달</td>\n      <td>꽃이있는풍경☏031-447-9466</td>\n    </tr>\n    <tr>\n      <th>3204</th>\n      <td>루어씨</td>\n      <td>화장품을 읽어주는 요자</td>\n    </tr>\n    <tr>\n      <th>3205</th>\n      <td>행복한 꿈지기</td>\n      <td>♣ 황금시티부동산♣</td>\n    </tr>\n  </tbody>\n</table>\n<p>3206 rows × 2 columns</p>\n</div>"
     },
     "metadata": {},
     "execution_count": 14
    }
   ],
   "source": [
    "# 닉네임 list 데이터프레임화\n",
    "df = pd.DataFrame(nicks, columns = ['닉네임' , '블로그이름'])\n",
    "df"
   ]
  },
  {
   "cell_type": "code",
   "execution_count": 35,
   "metadata": {},
   "outputs": [],
   "source": [
    "# 크롤링 데이터 저장하기\n",
    "df = pd.DataFrame(nicks, columns = ['닉네임' , '블로그이름'])\n",
    "df.to_csv('nick_1.csv', index =False, encoding=\"UTF-8-sig\")"
   ]
  },
  {
   "cell_type": "code",
   "execution_count": 15,
   "metadata": {},
   "outputs": [
    {
     "output_type": "execute_result",
     "data": {
      "text/plain": "             닉네임                           블로그이름\n0           gato                           꿈꾸는고냥\n1             종지                  종지와 연서의 행복한 일상\n2           호두알범                            호두알범\n3            안시댁                    안시댁의 프랑스 생활기\n4             윰미                    윰미의 신나는 일상 ♪\n...          ...                             ...\n3432  자연오투ㅡ뾰로롱오투                  향기품은 뾰로롱 오투네 ♥\n3433      오브리유나맘  오브리유나맘의 pretty little things ♥\n3434         앵블리            앵블리와 함께하는 알콩달콩한 세상♪♬\n3435   김작가의 김자카야                        달달한 꿀로그♡\n3436          D양                         D양의 사생활\n\n[3437 rows x 2 columns]",
      "text/html": "<div>\n<style scoped>\n    .dataframe tbody tr th:only-of-type {\n        vertical-align: middle;\n    }\n\n    .dataframe tbody tr th {\n        vertical-align: top;\n    }\n\n    .dataframe thead th {\n        text-align: right;\n    }\n</style>\n<table border=\"1\" class=\"dataframe\">\n  <thead>\n    <tr style=\"text-align: right;\">\n      <th></th>\n      <th>닉네임</th>\n      <th>블로그이름</th>\n    </tr>\n  </thead>\n  <tbody>\n    <tr>\n      <th>0</th>\n      <td>gato</td>\n      <td>꿈꾸는고냥</td>\n    </tr>\n    <tr>\n      <th>1</th>\n      <td>종지</td>\n      <td>종지와 연서의 행복한 일상</td>\n    </tr>\n    <tr>\n      <th>2</th>\n      <td>호두알범</td>\n      <td>호두알범</td>\n    </tr>\n    <tr>\n      <th>3</th>\n      <td>안시댁</td>\n      <td>안시댁의 프랑스 생활기</td>\n    </tr>\n    <tr>\n      <th>4</th>\n      <td>윰미</td>\n      <td>윰미의 신나는 일상 ♪</td>\n    </tr>\n    <tr>\n      <th>...</th>\n      <td>...</td>\n      <td>...</td>\n    </tr>\n    <tr>\n      <th>3432</th>\n      <td>자연오투ㅡ뾰로롱오투</td>\n      <td>향기품은 뾰로롱 오투네 ♥</td>\n    </tr>\n    <tr>\n      <th>3433</th>\n      <td>오브리유나맘</td>\n      <td>오브리유나맘의 pretty little things ♥</td>\n    </tr>\n    <tr>\n      <th>3434</th>\n      <td>앵블리</td>\n      <td>앵블리와 함께하는 알콩달콩한 세상♪♬</td>\n    </tr>\n    <tr>\n      <th>3435</th>\n      <td>김작가의 김자카야</td>\n      <td>달달한 꿀로그♡</td>\n    </tr>\n    <tr>\n      <th>3436</th>\n      <td>D양</td>\n      <td>D양의 사생활</td>\n    </tr>\n  </tbody>\n</table>\n<p>3437 rows × 2 columns</p>\n</div>"
     },
     "metadata": {},
     "execution_count": 15
    }
   ],
   "source": [
    "# 기존에 크롤링해서 저장한 데이터 가져오기\n",
    "df2=pd.read_csv(\"nick_1.csv\")\n",
    "df2"
   ]
  },
  {
   "cell_type": "code",
   "execution_count": 17,
   "metadata": {},
   "outputs": [],
   "source": [
    "# 새로 크롤링한 데이터와 합치기\n",
    "nickdf = pd.concat([df,df2], ignore_index=True)\n",
    "nickdf.drop_duplicates(keep='first',inplace=True)\n",
    "# 합친 데이터 저장\n",
    "nickdf.to_csv('nick_2.csv', index =False, encoding=\"UTF-8-sig\")"
   ]
  },
  {
   "cell_type": "markdown",
   "metadata": {},
   "source": [
    "# 닉네임 데이터 정제하기"
   ]
  },
  {
   "cell_type": "code",
   "execution_count": 126,
   "metadata": {
    "tags": []
   },
   "outputs": [
    {
     "output_type": "execute_result",
     "data": {
      "text/plain": "          닉네임\n0       그림자궁전\n1          나로\n2        액션꽁주\n3     하고싶은거다해\n4       빛나는옥쇄\n...       ...\n3933     모모도리\n3934    아임유새댁\n3935       울림\n3936      간재리\n3937      앵블리\n\n[3794 rows x 1 columns]",
      "text/html": "<div>\n<style scoped>\n    .dataframe tbody tr th:only-of-type {\n        vertical-align: middle;\n    }\n\n    .dataframe tbody tr th {\n        vertical-align: top;\n    }\n\n    .dataframe thead th {\n        text-align: right;\n    }\n</style>\n<table border=\"1\" class=\"dataframe\">\n  <thead>\n    <tr style=\"text-align: right;\">\n      <th></th>\n      <th>닉네임</th>\n    </tr>\n  </thead>\n  <tbody>\n    <tr>\n      <th>0</th>\n      <td>그림자궁전</td>\n    </tr>\n    <tr>\n      <th>1</th>\n      <td>나로</td>\n    </tr>\n    <tr>\n      <th>2</th>\n      <td>액션꽁주</td>\n    </tr>\n    <tr>\n      <th>3</th>\n      <td>하고싶은거다해</td>\n    </tr>\n    <tr>\n      <th>4</th>\n      <td>빛나는옥쇄</td>\n    </tr>\n    <tr>\n      <th>...</th>\n      <td>...</td>\n    </tr>\n    <tr>\n      <th>3933</th>\n      <td>모모도리</td>\n    </tr>\n    <tr>\n      <th>3934</th>\n      <td>아임유새댁</td>\n    </tr>\n    <tr>\n      <th>3935</th>\n      <td>울림</td>\n    </tr>\n    <tr>\n      <th>3936</th>\n      <td>간재리</td>\n    </tr>\n    <tr>\n      <th>3937</th>\n      <td>앵블리</td>\n    </tr>\n  </tbody>\n</table>\n<p>3794 rows × 1 columns</p>\n</div>"
     },
     "metadata": {},
     "execution_count": 126
    }
   ],
   "source": [
    "# 한글닉네임 데이터정제 (길이 최대 7글자로 제한) : 광고성 닉네임은 제외하기\n",
    "import re\n",
    "korean = re.compile('^[가-힣]+[\\s]*[가-힣]+$')\n",
    "stopwords = re.compile('신용|회사|부동산|외과|안과|치과|내과|산부인과|병원|코치|원장|교육|휴대폰|전문|센터|심리|컨설턴트|인테리어|설비|대표|분석|빌라스|중개사|렌트카|학원|오토|대학교|선불|체험|사다리차|이삿짐|네일|운영|헬퍼|화재|창업|아카데미|강습소|논술|강사|쌤|맘|드라이빙|빵집|테크|상회|실장|팀장|택시|누수|애터미|공방|지점장|스타일|아나운서|뷰스타|핸드메이드|행정사|일본어|문수리|배관|공작소|예물|육아|법인|사업부')\n",
    "knick = []\n",
    "for nick in nickdf['닉네임']:\n",
    "    k = korean.findall(nick)\n",
    "    if len(k)>0:\n",
    "        if stopwords.search(k[0]) is None:\n",
    "            knick.append(korean.findall(nick)[0])\n",
    "\n",
    "kdf = pd.DataFrame(knick, columns=['닉네임'])\n",
    "kdf = kdf[kdf['닉네임'].str.len()<=7]\n",
    "kdf"
   ]
  },
  {
   "cell_type": "code",
   "execution_count": 144,
   "metadata": {},
   "outputs": [],
   "source": [
    "kdf.to_csv('nick_korean.csv', index =False, encoding=\"UTF-8-sig\")"
   ]
  },
  {
   "cell_type": "code",
   "execution_count": 139,
   "metadata": {},
   "outputs": [
    {
     "output_type": "execute_result",
     "data": {
      "text/plain": "            닉네임\n0           Jay\n1         Suzie\n2       chaeooh\n3        asoona\n4        dondon\n..          ...\n636  keep going\n637      Sylvia\n638       NEEDS\n639        coco\n640       GRACE\n\n[641 rows x 1 columns]",
      "text/html": "<div>\n<style scoped>\n    .dataframe tbody tr th:only-of-type {\n        vertical-align: middle;\n    }\n\n    .dataframe tbody tr th {\n        vertical-align: top;\n    }\n\n    .dataframe thead th {\n        text-align: right;\n    }\n</style>\n<table border=\"1\" class=\"dataframe\">\n  <thead>\n    <tr style=\"text-align: right;\">\n      <th></th>\n      <th>닉네임</th>\n    </tr>\n  </thead>\n  <tbody>\n    <tr>\n      <th>0</th>\n      <td>Jay</td>\n    </tr>\n    <tr>\n      <th>1</th>\n      <td>Suzie</td>\n    </tr>\n    <tr>\n      <th>2</th>\n      <td>chaeooh</td>\n    </tr>\n    <tr>\n      <th>3</th>\n      <td>asoona</td>\n    </tr>\n    <tr>\n      <th>4</th>\n      <td>dondon</td>\n    </tr>\n    <tr>\n      <th>...</th>\n      <td>...</td>\n    </tr>\n    <tr>\n      <th>636</th>\n      <td>keep going</td>\n    </tr>\n    <tr>\n      <th>637</th>\n      <td>Sylvia</td>\n    </tr>\n    <tr>\n      <th>638</th>\n      <td>NEEDS</td>\n    </tr>\n    <tr>\n      <th>639</th>\n      <td>coco</td>\n    </tr>\n    <tr>\n      <th>640</th>\n      <td>GRACE</td>\n    </tr>\n  </tbody>\n</table>\n<p>641 rows × 1 columns</p>\n</div>"
     },
     "metadata": {},
     "execution_count": 139
    }
   ],
   "source": [
    "# 영어닉네임 데이터정제 (최대길이 제한 없음) : 영어닉네임은 비교적 광고성 닉네임이 적다\n",
    "import re\n",
    "eng = re.compile('^[a-zA-Z]+[\\s]*[a-zA-Z]+$')\n",
    "stopwords = re.compile('company|stylist|makeup')\n",
    "enick = []\n",
    "for nick in nickdf['닉네임']:\n",
    "    e = eng.findall(nick)\n",
    "    if len(e)>0:\n",
    "        if stopwords.search(e[0]) is None:\n",
    "            enick.append(e[0])\n",
    "\n",
    "edf = pd.DataFrame(enick, columns=['닉네임'])\n",
    "# edf = edf[edf['닉네임'].str.len()<=7]\n",
    "edf"
   ]
  },
  {
   "cell_type": "code",
   "execution_count": 146,
   "metadata": {},
   "outputs": [
    {
     "output_type": "execute_result",
     "data": {
      "text/plain": "                     닉네임\n6       whyspeciallyyiou\n14   Sentimentality JIAN\n37         Severus Stark\n44          leedscapsule\n49          Kleinmeister\n76          Muhammad Ali\n111         Some Moments\n116         Golden plant\n117        Vito Scaletta\n133         nicegoodfood\n134         westsky love\n163      Alliedyoung FBC\n183         Smile flower\n184         The MACALLAN\n195       Beauty Outside\n200         artistpopart\n209        KivHan coffee\n211        Grandeur Taxi\n217         MANO DIAMOND\n225        battery power\n237     Juana Deigratian\n241         befnwofwenbf\n251         Study Master\n277      chochochocolate\n297         alohasisters\n308         cotton candy\n348         henny mcphee\n355        LovelySocialT\n385         JabberMentor\n417         bijou eunoia\n423       soonish makeup\n444        beautifulhill\n510      Chandellederusa\n517       danceintherain\n519      barishocola KIM\n571         Journey Bear\n587         sportstation\n620        EunYu Estella\n633        madame pompom",
      "text/html": "<div>\n<style scoped>\n    .dataframe tbody tr th:only-of-type {\n        vertical-align: middle;\n    }\n\n    .dataframe tbody tr th {\n        vertical-align: top;\n    }\n\n    .dataframe thead th {\n        text-align: right;\n    }\n</style>\n<table border=\"1\" class=\"dataframe\">\n  <thead>\n    <tr style=\"text-align: right;\">\n      <th></th>\n      <th>닉네임</th>\n    </tr>\n  </thead>\n  <tbody>\n    <tr>\n      <th>6</th>\n      <td>whyspeciallyyiou</td>\n    </tr>\n    <tr>\n      <th>14</th>\n      <td>Sentimentality JIAN</td>\n    </tr>\n    <tr>\n      <th>37</th>\n      <td>Severus Stark</td>\n    </tr>\n    <tr>\n      <th>44</th>\n      <td>leedscapsule</td>\n    </tr>\n    <tr>\n      <th>49</th>\n      <td>Kleinmeister</td>\n    </tr>\n    <tr>\n      <th>76</th>\n      <td>Muhammad Ali</td>\n    </tr>\n    <tr>\n      <th>111</th>\n      <td>Some Moments</td>\n    </tr>\n    <tr>\n      <th>116</th>\n      <td>Golden plant</td>\n    </tr>\n    <tr>\n      <th>117</th>\n      <td>Vito Scaletta</td>\n    </tr>\n    <tr>\n      <th>133</th>\n      <td>nicegoodfood</td>\n    </tr>\n    <tr>\n      <th>134</th>\n      <td>westsky love</td>\n    </tr>\n    <tr>\n      <th>163</th>\n      <td>Alliedyoung FBC</td>\n    </tr>\n    <tr>\n      <th>183</th>\n      <td>Smile flower</td>\n    </tr>\n    <tr>\n      <th>184</th>\n      <td>The MACALLAN</td>\n    </tr>\n    <tr>\n      <th>195</th>\n      <td>Beauty Outside</td>\n    </tr>\n    <tr>\n      <th>200</th>\n      <td>artistpopart</td>\n    </tr>\n    <tr>\n      <th>209</th>\n      <td>KivHan coffee</td>\n    </tr>\n    <tr>\n      <th>211</th>\n      <td>Grandeur Taxi</td>\n    </tr>\n    <tr>\n      <th>217</th>\n      <td>MANO DIAMOND</td>\n    </tr>\n    <tr>\n      <th>225</th>\n      <td>battery power</td>\n    </tr>\n    <tr>\n      <th>237</th>\n      <td>Juana Deigratian</td>\n    </tr>\n    <tr>\n      <th>241</th>\n      <td>befnwofwenbf</td>\n    </tr>\n    <tr>\n      <th>251</th>\n      <td>Study Master</td>\n    </tr>\n    <tr>\n      <th>277</th>\n      <td>chochochocolate</td>\n    </tr>\n    <tr>\n      <th>297</th>\n      <td>alohasisters</td>\n    </tr>\n    <tr>\n      <th>308</th>\n      <td>cotton candy</td>\n    </tr>\n    <tr>\n      <th>348</th>\n      <td>henny mcphee</td>\n    </tr>\n    <tr>\n      <th>355</th>\n      <td>LovelySocialT</td>\n    </tr>\n    <tr>\n      <th>385</th>\n      <td>JabberMentor</td>\n    </tr>\n    <tr>\n      <th>417</th>\n      <td>bijou eunoia</td>\n    </tr>\n    <tr>\n      <th>423</th>\n      <td>soonish makeup</td>\n    </tr>\n    <tr>\n      <th>444</th>\n      <td>beautifulhill</td>\n    </tr>\n    <tr>\n      <th>510</th>\n      <td>Chandellederusa</td>\n    </tr>\n    <tr>\n      <th>517</th>\n      <td>danceintherain</td>\n    </tr>\n    <tr>\n      <th>519</th>\n      <td>barishocola KIM</td>\n    </tr>\n    <tr>\n      <th>571</th>\n      <td>Journey Bear</td>\n    </tr>\n    <tr>\n      <th>587</th>\n      <td>sportstation</td>\n    </tr>\n    <tr>\n      <th>620</th>\n      <td>EunYu Estella</td>\n    </tr>\n    <tr>\n      <th>633</th>\n      <td>madame pompom</td>\n    </tr>\n  </tbody>\n</table>\n</div>"
     },
     "metadata": {},
     "execution_count": 146
    }
   ],
   "source": [
    "# 데이터 확인 : 12글자 이상인 닉네임 확인\n",
    "edf[edf['닉네임'].str.len()>=12]"
   ]
  },
  {
   "cell_type": "code",
   "execution_count": 145,
   "metadata": {},
   "outputs": [],
   "source": [
    "# 영어닉네임 저장\n",
    "edf.to_csv('nick_english.csv', index =False, encoding=\"UTF-8-sig\")"
   ]
  }
 ]
}