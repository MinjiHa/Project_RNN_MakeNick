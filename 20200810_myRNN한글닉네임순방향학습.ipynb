{
  "nbformat": 4,
  "nbformat_minor": 0,
  "metadata": {
    "language_info": {
      "codemirror_mode": {
        "name": "ipython",
        "version": 3
      },
      "file_extension": ".py",
      "mimetype": "text/x-python",
      "name": "python",
      "nbconvert_exporter": "python",
      "pygments_lexer": "ipython3",
      "version": 3
    },
    "orig_nbformat": 2,
    "kernelspec": {
      "name": "python_defaultSpec_1596759608482",
      "display_name": "Python 3.7.7 64-bit"
    },
    "colab": {
      "name": "20200806_myRNNtest.ipynb",
      "provenance": [],
      "collapsed_sections": [],
      "toc_visible": true
    },
    "accelerator": "GPU"
  },
  "cells": [
    {
      "cell_type": "code",
      "metadata": {
        "id": "ttDFiQvjxK4Z",
        "colab_type": "code",
        "colab": {}
      },
      "source": [
        "from keras.preprocessing.text import Tokenizer, text_to_word_sequence\n",
        "from keras.preprocessing.sequence import pad_sequences\n",
        "from keras.utils import to_categorical\n",
        "import numpy as np \n",
        "import pandas as pd\n",
        "from keras.models import Sequential\n",
        "from keras.layers import *\n",
        "from keras.callbacks import EarlyStopping"
      ],
      "execution_count": 75,
      "outputs": []
    },
    {
      "cell_type": "markdown",
      "metadata": {
        "id": "-FOCtlonxK4d",
        "colab_type": "text"
      },
      "source": [
        "# 한글닉네임 불러오기"
      ]
    },
    {
      "cell_type": "code",
      "metadata": {
        "id": "AIdH7onIxK4e",
        "colab_type": "code",
        "colab": {}
      },
      "source": [
        "# 전체 닉네임리스트 (글자딕셔너리 만들기 위해)\n",
        "df = pd.read_csv(\"/content/nick_korean3.csv\")\n",
        "knick = list(df['닉네임'])\n",
        "# 두글자 닉네임 따로 떼기 (DNN모델을 따로 만들기 위해)\n",
        "k_two_nick = df[df['닉네임'].str.len()<=2]\n",
        "k_two_nick = list(k_two_nick['닉네임'])\n",
        "# 세글자 이상 닉네임 따로 떼기 (RNN모델 위해)\n",
        "k_upthree_nick = df[df['닉네임'].str.len()>2]\n",
        "k_upthree_nick = list(k_upthree_nick['닉네임'])"
      ],
      "execution_count": 76,
      "outputs": []
    },
    {
      "cell_type": "code",
      "metadata": {
        "id": "cySoYyR_xK4g",
        "colab_type": "code",
        "colab": {
          "base_uri": "https://localhost:8080/",
          "height": 210
        },
        "outputId": "8d364b03-8c42-46a4-865c-7b45b00ae52a"
      },
      "source": [
        "k_upthree_nick[:11]"
      ],
      "execution_count": 77,
      "outputs": [
        {
          "output_type": "execute_result",
          "data": {
            "text/plain": [
              "['그림자궁전',\n",
              " '액션꽁주',\n",
              " '하고싶은거다해',\n",
              " '빛나는옥쇄',\n",
              " '그린향기',\n",
              " '정의로운악당',\n",
              " '오꼬밍',\n",
              " '못난인형',\n",
              " '루아흐',\n",
              " '프랭크',\n",
              " '엄마는멋쟁이']"
            ]
          },
          "metadata": {
            "tags": []
          },
          "execution_count": 77
        }
      ]
    },
    {
      "cell_type": "code",
      "metadata": {
        "id": "5CCZodmfxK4k",
        "colab_type": "code",
        "colab": {
          "base_uri": "https://localhost:8080/",
          "height": 34
        },
        "outputId": "88b56800-f9da-4917-9e16-60e53744e24c"
      },
      "source": [
        "len(k_upthree_nick) # 3874"
      ],
      "execution_count": 78,
      "outputs": [
        {
          "output_type": "execute_result",
          "data": {
            "text/plain": [
              "2610"
            ]
          },
          "metadata": {
            "tags": []
          },
          "execution_count": 78
        }
      ]
    },
    {
      "cell_type": "code",
      "metadata": {
        "id": "aaWx9zhlxK4m",
        "colab_type": "code",
        "colab": {
          "base_uri": "https://localhost:8080/",
          "height": 34
        },
        "outputId": "7ebd0d49-9a52-40b1-9d22-22000594f199"
      },
      "source": [
        "len(max(k_upthree_nick, key=len)) #7"
      ],
      "execution_count": 79,
      "outputs": [
        {
          "output_type": "execute_result",
          "data": {
            "text/plain": [
              "7"
            ]
          },
          "metadata": {
            "tags": []
          },
          "execution_count": 79
        }
      ]
    },
    {
      "cell_type": "markdown",
      "metadata": {},
      "source": [
        "# 글자:인덱스 딕셔너리 만들기"
      ]
    },
    {
      "cell_type": "code",
      "metadata": {
        "tags": [],
        "id": "xDLl5Z6fxK4o",
        "colab_type": "code",
        "colab": {}
      },
      "source": [
        "charSet = []\n",
        "for nick in knick:\n",
        "    charSet.extend(list(set(nick)))\n",
        "\n",
        "charSet = list(set(charSet)) # 중복제거\n",
        "charDic = {w:i+1 for i,w in enumerate(charSet)} # 글자딕셔너리 (글자:인덱스)\n",
        "numDic = {i+1:w for i,w in enumerate(charSet)} # 글자딕셔너리 (인덱스:글자)"
      ],
      "execution_count": 80,
      "outputs": []
    },
    {
      "cell_type": "code",
      "metadata": {
        "id": "bBc3-47nxK4r",
        "colab_type": "code",
        "colab": {}
      },
      "source": [
        "charsize = len(charSet) # 1071"
      ],
      "execution_count": 81,
      "outputs": []
    },
    {
      "cell_type": "code",
      "metadata": {
        "id": "BveLqLLGz3oA",
        "colab_type": "code",
        "colab": {
          "base_uri": "https://localhost:8080/",
          "height": 34
        },
        "outputId": "f0a4a686-c0d8-4022-ad78-511f0f425ca7"
      },
      "source": [
        "charsize"
      ],
      "execution_count": 82,
      "outputs": [
        {
          "output_type": "execute_result",
          "data": {
            "text/plain": [
              "973"
            ]
          },
          "metadata": {
            "tags": []
          },
          "execution_count": 82
        }
      ]
    },
    {
      "cell_type": "markdown",
      "metadata": {},
      "source": [
        "# 학습데이터셋 정제"
      ]
    },
    {
      "cell_type": "code",
      "metadata": {
        "id": "Y4wkAjUbxK4t",
        "colab_type": "code",
        "colab": {
          "base_uri": "https://localhost:8080/",
          "height": 210
        },
        "outputId": "75569e70-88f7-4527-8d4a-ef62f4532526"
      },
      "source": [
        "# 단어 숫자화\n",
        "char_numlist = []\n",
        "for xStr in k_upthree_nick:\n",
        "    x = [charDic[c] for c in xStr]\n",
        "    char_numlist.append(x)\n",
        "char_numlist[:11]"
      ],
      "execution_count": 83,
      "outputs": [
        {
          "output_type": "execute_result",
          "data": {
            "text/plain": [
              "[[65, 383, 87, 953, 963],\n",
              " [89, 524, 511, 431],\n",
              " [126, 395, 75, 28, 307, 50, 437],\n",
              " [452, 847, 585, 525, 56],\n",
              " [65, 334, 159, 656],\n",
              " [453, 425, 584, 921, 688, 144],\n",
              " [938, 871, 52],\n",
              " [325, 438, 842, 909],\n",
              " [147, 181, 964],\n",
              " [697, 240, 445],\n",
              " [177, 239, 585, 792, 751, 824]]"
            ]
          },
          "metadata": {
            "tags": []
          },
          "execution_count": 83
        }
      ]
    },
    {
      "cell_type": "code",
      "metadata": {
        "id": "CTLBRflPxK40",
        "colab_type": "code",
        "colab": {
          "base_uri": "https://localhost:8080/",
          "height": 210
        },
        "outputId": "f07e3c5a-44ea-43af-b370-103aa1f479a2"
      },
      "source": [
        "# 순차적 글자배열만들기\n",
        "nick_sequences = []\n",
        "for nick in k_upthree_nick: # 2580개 닉네임 , 968가지 단어 \n",
        "    encoded=[charDic[c] for c in nick] \n",
        "    for i in range(1, len(encoded)):\n",
        "        sequence=encoded[:i+1]\n",
        "        nick_sequences.append(sequence)\n",
        "nick_sequences[:11]"
      ],
      "execution_count": 84,
      "outputs": [
        {
          "output_type": "execute_result",
          "data": {
            "text/plain": [
              "[[65, 383],\n",
              " [65, 383, 87],\n",
              " [65, 383, 87, 953],\n",
              " [65, 383, 87, 953, 963],\n",
              " [89, 524],\n",
              " [89, 524, 511],\n",
              " [89, 524, 511, 431],\n",
              " [126, 395],\n",
              " [126, 395, 75],\n",
              " [126, 395, 75, 28],\n",
              " [126, 395, 75, 28, 307]]"
            ]
          },
          "metadata": {
            "tags": []
          },
          "execution_count": 84
        }
      ]
    },
    {
      "cell_type": "code",
      "metadata": {
        "tags": [],
        "id": "qBKMXIdwxK44",
        "colab_type": "code",
        "colab": {
          "base_uri": "https://localhost:8080/",
          "height": 105
        },
        "outputId": "35bf3f92-0ade-46dc-ff29-1a07a13b2e83"
      },
      "source": [
        "# 패딩해주기 (최대길이7)\n",
        "sequences=pad_sequences(nick_sequences, maxlen=7, padding='pre')\n",
        "print(sequences[:5])"
      ],
      "execution_count": 85,
      "outputs": [
        {
          "output_type": "stream",
          "text": [
            "[[  0   0   0   0   0  65 383]\n",
            " [  0   0   0   0  65 383  87]\n",
            " [  0   0   0  65 383  87 953]\n",
            " [  0   0  65 383  87 953 963]\n",
            " [  0   0   0   0   0  89 524]]\n"
          ],
          "name": "stdout"
        }
      ]
    },
    {
      "cell_type": "code",
      "metadata": {
        "id": "1efJ5kUcxK47",
        "colab_type": "code",
        "colab": {}
      },
      "source": [
        "# x,y데이터 나누기\n",
        "x = sequences[:,:-1]\n",
        "y = sequences[:,-1]"
      ],
      "execution_count": 86,
      "outputs": []
    },
    {
      "cell_type": "code",
      "metadata": {
        "tags": [],
        "id": "Tq5fuulGxK5A",
        "colab_type": "code",
        "colab": {
          "base_uri": "https://localhost:8080/",
          "height": 228
        },
        "outputId": "05f0d37b-b199-4e42-b43a-f76a91e6762f"
      },
      "source": [
        "# x,y데이터 확인\n",
        "print(x[:11])\n",
        "print(y[:11])"
      ],
      "execution_count": 87,
      "outputs": [
        {
          "output_type": "stream",
          "text": [
            "[[  0   0   0   0   0  65]\n",
            " [  0   0   0   0  65 383]\n",
            " [  0   0   0  65 383  87]\n",
            " [  0   0  65 383  87 953]\n",
            " [  0   0   0   0   0  89]\n",
            " [  0   0   0   0  89 524]\n",
            " [  0   0   0  89 524 511]\n",
            " [  0   0   0   0   0 126]\n",
            " [  0   0   0   0 126 395]\n",
            " [  0   0   0 126 395  75]\n",
            " [  0   0 126 395  75  28]]\n",
            "[383  87 953 963 524 511 431 395  75  28 307]\n"
          ],
          "name": "stdout"
        }
      ]
    },
    {
      "cell_type": "code",
      "metadata": {
        "id": "u1tZtmHbxK5E",
        "colab_type": "code",
        "colab": {
          "base_uri": "https://localhost:8080/",
          "height": 34
        },
        "outputId": "51854002-6e6a-43af-d35f-0d873f5aa061"
      },
      "source": [
        "x.shape"
      ],
      "execution_count": 88,
      "outputs": [
        {
          "output_type": "execute_result",
          "data": {
            "text/plain": [
              "(7671, 6)"
            ]
          },
          "metadata": {
            "tags": []
          },
          "execution_count": 88
        }
      ]
    },
    {
      "cell_type": "code",
      "metadata": {
        "id": "WN3cBNGjxK5H",
        "colab_type": "code",
        "colab": {
          "base_uri": "https://localhost:8080/",
          "height": 140
        },
        "outputId": "76066da0-abfd-47b8-e9e6-1ef7b9e97a04"
      },
      "source": [
        "# y데이터 원핫인코딩\n",
        "y = to_categorical(y)\n",
        "y"
      ],
      "execution_count": 89,
      "outputs": [
        {
          "output_type": "execute_result",
          "data": {
            "text/plain": [
              "array([[0., 0., 0., ..., 0., 0., 0.],\n",
              "       [0., 0., 0., ..., 0., 0., 0.],\n",
              "       [0., 0., 0., ..., 0., 0., 0.],\n",
              "       ...,\n",
              "       [0., 0., 0., ..., 0., 0., 0.],\n",
              "       [0., 0., 0., ..., 0., 0., 0.],\n",
              "       [0., 0., 0., ..., 0., 0., 0.]], dtype=float32)"
            ]
          },
          "metadata": {
            "tags": []
          },
          "execution_count": 89
        }
      ]
    },
    {
      "cell_type": "code",
      "metadata": {
        "id": "G_kdDs3cxK5K",
        "colab_type": "code",
        "colab": {
          "base_uri": "https://localhost:8080/",
          "height": 34
        },
        "outputId": "aa2d7b0d-4809-4414-f9f0-d4dbc468d1c1"
      },
      "source": [
        "y.shape"
      ],
      "execution_count": 90,
      "outputs": [
        {
          "output_type": "execute_result",
          "data": {
            "text/plain": [
              "(7671, 974)"
            ]
          },
          "metadata": {
            "tags": []
          },
          "execution_count": 90
        }
      ]
    },
    {
      "cell_type": "code",
      "metadata": {
        "id": "z4s_R8SZxK5w",
        "colab_type": "code",
        "colab": {
          "base_uri": "https://localhost:8080/",
          "height": 34
        },
        "outputId": "60172897-dfa9-4956-b6e1-138dbdd1149d"
      },
      "source": [
        "len(y[0]) # 패딩으로 사용하는 0과 charsize 1~968"
      ],
      "execution_count": 91,
      "outputs": [
        {
          "output_type": "execute_result",
          "data": {
            "text/plain": [
              "974"
            ]
          },
          "metadata": {
            "tags": []
          },
          "execution_count": 91
        }
      ]
    },
    {
      "cell_type": "markdown",
      "metadata": {},
      "source": [
        "# 모델 생성 및 학습"
      ]
    },
    {
      "cell_type": "code",
      "metadata": {
        "tags": [],
        "id": "-Nmx0SsuxK5z",
        "colab_type": "code",
        "colab": {
          "base_uri": "https://localhost:8080/",
          "height": 263
        },
        "outputId": "50740d23-e19a-4851-ce70-ba47c3f1c91f"
      },
      "source": [
        "##모델 생성\n",
        "model = Sequential()\n",
        "model.add(Embedding(974, 50, input_length=6)) \n",
        "model.add(LSTM(50*64))\n",
        "model.add(Dense(974, activation='softmax'))\n",
        "model.summary()"
      ],
      "execution_count": 93,
      "outputs": [
        {
          "output_type": "stream",
          "text": [
            "Model: \"sequential_3\"\n",
            "_________________________________________________________________\n",
            "Layer (type)                 Output Shape              Param #   \n",
            "=================================================================\n",
            "embedding_3 (Embedding)      (None, 6, 50)             48700     \n",
            "_________________________________________________________________\n",
            "lstm_3 (LSTM)                (None, 3200)              41612800  \n",
            "_________________________________________________________________\n",
            "dense_3 (Dense)              (None, 974)               3117774   \n",
            "=================================================================\n",
            "Total params: 44,779,274\n",
            "Trainable params: 44,779,274\n",
            "Non-trainable params: 0\n",
            "_________________________________________________________________\n"
          ],
          "name": "stdout"
        }
      ]
    },
    {
      "cell_type": "code",
      "metadata": {
        "tags": [],
        "id": "RUJKNhZ3xK53",
        "colab_type": "code",
        "colab": {
          "base_uri": "https://localhost:8080/",
          "height": 1000
        },
        "outputId": "33568b7c-f40a-4360-89d2-7c831d361613"
      },
      "source": [
        "# 모델 컴파일\n",
        "model.compile(loss='categorical_crossentropy',\n",
        "              optimizer='adam',\n",
        "              metrics=['accuracy'])\n",
        "# 콜백함수 지정\n",
        "# early_stopping = EarlyStopping(monitor='accuracy', min_delta=0.01, patience=10, mode='auto')\n",
        "\n",
        "# 모델 피팅\n",
        "# model.fit(x, y, epochs=150, callbacks=[early_stopping])\n",
        "model.fit(x, y, epochs=100)"
      ],
      "execution_count": 94,
      "outputs": [
        {
          "output_type": "stream",
          "text": [
            "Epoch 1/100\n",
            "240/240 [==============================] - 9s 35ms/step - loss: 5.8842 - accuracy: 0.0536\n",
            "Epoch 2/100\n",
            "240/240 [==============================] - 8s 35ms/step - loss: 5.6669 - accuracy: 0.0577\n",
            "Epoch 3/100\n",
            "240/240 [==============================] - 8s 35ms/step - loss: 5.6020 - accuracy: 0.0576\n",
            "Epoch 4/100\n",
            "240/240 [==============================] - 8s 35ms/step - loss: 5.5534 - accuracy: 0.0584\n",
            "Epoch 5/100\n",
            "240/240 [==============================] - 8s 35ms/step - loss: 5.4743 - accuracy: 0.0667\n",
            "Epoch 6/100\n",
            "240/240 [==============================] - 8s 35ms/step - loss: 5.3382 - accuracy: 0.0763\n",
            "Epoch 7/100\n",
            "240/240 [==============================] - 8s 35ms/step - loss: 5.1878 - accuracy: 0.0862\n",
            "Epoch 8/100\n",
            "240/240 [==============================] - 8s 35ms/step - loss: 5.0007 - accuracy: 0.1062\n",
            "Epoch 9/100\n",
            "240/240 [==============================] - 8s 35ms/step - loss: 4.6755 - accuracy: 0.1237\n",
            "Epoch 10/100\n",
            "240/240 [==============================] - 9s 35ms/step - loss: 4.3332 - accuracy: 0.1563\n",
            "Epoch 11/100\n",
            "240/240 [==============================] - 8s 35ms/step - loss: 3.9432 - accuracy: 0.2017\n",
            "Epoch 12/100\n",
            "240/240 [==============================] - 8s 35ms/step - loss: 3.5210 - accuracy: 0.2696\n",
            "Epoch 13/100\n",
            "240/240 [==============================] - 9s 35ms/step - loss: 3.1389 - accuracy: 0.3421\n",
            "Epoch 14/100\n",
            "240/240 [==============================] - 9s 35ms/step - loss: 2.8216 - accuracy: 0.3956\n",
            "Epoch 15/100\n",
            "240/240 [==============================] - 8s 35ms/step - loss: 2.5612 - accuracy: 0.4349\n",
            "Epoch 16/100\n",
            "240/240 [==============================] - 9s 35ms/step - loss: 2.3570 - accuracy: 0.4710\n",
            "Epoch 17/100\n",
            "240/240 [==============================] - 9s 36ms/step - loss: 2.1764 - accuracy: 0.5011\n",
            "Epoch 18/100\n",
            "240/240 [==============================] - 9s 36ms/step - loss: 2.0298 - accuracy: 0.5200\n",
            "Epoch 19/100\n",
            "240/240 [==============================] - 9s 36ms/step - loss: 1.9023 - accuracy: 0.5466\n",
            "Epoch 20/100\n",
            "240/240 [==============================] - 9s 36ms/step - loss: 1.7802 - accuracy: 0.5694\n",
            "Epoch 21/100\n",
            "240/240 [==============================] - 9s 36ms/step - loss: 1.6816 - accuracy: 0.5862\n",
            "Epoch 22/100\n",
            "240/240 [==============================] - 9s 36ms/step - loss: 1.5922 - accuracy: 0.6066\n",
            "Epoch 23/100\n",
            "240/240 [==============================] - 9s 36ms/step - loss: 1.5177 - accuracy: 0.6205\n",
            "Epoch 24/100\n",
            "240/240 [==============================] - 9s 36ms/step - loss: 1.4561 - accuracy: 0.6287\n",
            "Epoch 25/100\n",
            "240/240 [==============================] - 9s 36ms/step - loss: 1.3988 - accuracy: 0.6369\n",
            "Epoch 26/100\n",
            "240/240 [==============================] - 9s 36ms/step - loss: 1.3477 - accuracy: 0.6445\n",
            "Epoch 27/100\n",
            "240/240 [==============================] - 9s 36ms/step - loss: 1.3078 - accuracy: 0.6522\n",
            "Epoch 28/100\n",
            "240/240 [==============================] - 9s 36ms/step - loss: 1.2830 - accuracy: 0.6493\n",
            "Epoch 29/100\n",
            "240/240 [==============================] - 9s 36ms/step - loss: 1.2548 - accuracy: 0.6509\n",
            "Epoch 30/100\n",
            "240/240 [==============================] - 9s 36ms/step - loss: 1.2144 - accuracy: 0.6539\n",
            "Epoch 31/100\n",
            "240/240 [==============================] - 9s 36ms/step - loss: 1.1917 - accuracy: 0.6545\n",
            "Epoch 32/100\n",
            "240/240 [==============================] - 9s 36ms/step - loss: 1.1613 - accuracy: 0.6620\n",
            "Epoch 33/100\n",
            "240/240 [==============================] - 9s 36ms/step - loss: 1.1385 - accuracy: 0.6624\n",
            "Epoch 34/100\n",
            "240/240 [==============================] - 9s 36ms/step - loss: 1.1221 - accuracy: 0.6612\n",
            "Epoch 35/100\n",
            "240/240 [==============================] - 9s 36ms/step - loss: 1.1051 - accuracy: 0.6647\n",
            "Epoch 36/100\n",
            "240/240 [==============================] - 9s 36ms/step - loss: 1.0957 - accuracy: 0.6613\n",
            "Epoch 37/100\n",
            "240/240 [==============================] - 9s 36ms/step - loss: 1.0794 - accuracy: 0.6629\n",
            "Epoch 38/100\n",
            "240/240 [==============================] - 9s 36ms/step - loss: 1.0747 - accuracy: 0.6590\n",
            "Epoch 39/100\n",
            "240/240 [==============================] - 9s 36ms/step - loss: 1.0666 - accuracy: 0.6629\n",
            "Epoch 40/100\n",
            "240/240 [==============================] - 9s 36ms/step - loss: 1.0525 - accuracy: 0.6592\n",
            "Epoch 41/100\n",
            "240/240 [==============================] - 9s 36ms/step - loss: 1.0448 - accuracy: 0.6588\n",
            "Epoch 42/100\n",
            "240/240 [==============================] - 9s 36ms/step - loss: 1.0411 - accuracy: 0.6607\n",
            "Epoch 43/100\n",
            "240/240 [==============================] - 9s 36ms/step - loss: 1.0341 - accuracy: 0.6618\n",
            "Epoch 44/100\n",
            "240/240 [==============================] - 9s 36ms/step - loss: 1.0230 - accuracy: 0.6587\n",
            "Epoch 45/100\n",
            "240/240 [==============================] - 9s 36ms/step - loss: 1.0238 - accuracy: 0.6590\n",
            "Epoch 46/100\n",
            "240/240 [==============================] - 9s 36ms/step - loss: 1.0168 - accuracy: 0.6626\n",
            "Epoch 47/100\n",
            "240/240 [==============================] - 9s 36ms/step - loss: 1.0114 - accuracy: 0.6603\n",
            "Epoch 48/100\n",
            "240/240 [==============================] - 9s 36ms/step - loss: 1.0088 - accuracy: 0.6595\n",
            "Epoch 49/100\n",
            "240/240 [==============================] - 9s 36ms/step - loss: 1.0050 - accuracy: 0.6591\n",
            "Epoch 50/100\n",
            "240/240 [==============================] - 9s 36ms/step - loss: 0.9984 - accuracy: 0.6637\n",
            "Epoch 51/100\n",
            "240/240 [==============================] - 9s 36ms/step - loss: 1.0125 - accuracy: 0.6591\n",
            "Epoch 52/100\n",
            "240/240 [==============================] - 9s 36ms/step - loss: 1.0393 - accuracy: 0.6457\n",
            "Epoch 53/100\n",
            "240/240 [==============================] - 9s 36ms/step - loss: 1.0215 - accuracy: 0.6539\n",
            "Epoch 54/100\n",
            "240/240 [==============================] - 9s 36ms/step - loss: 0.9866 - accuracy: 0.6579\n",
            "Epoch 55/100\n",
            "240/240 [==============================] - 9s 36ms/step - loss: 0.9685 - accuracy: 0.6631\n",
            "Epoch 56/100\n",
            "240/240 [==============================] - 9s 36ms/step - loss: 0.9640 - accuracy: 0.6639\n",
            "Epoch 57/100\n",
            "240/240 [==============================] - 9s 36ms/step - loss: 0.9634 - accuracy: 0.6600\n",
            "Epoch 58/100\n",
            "240/240 [==============================] - 9s 36ms/step - loss: 0.9610 - accuracy: 0.6646\n",
            "Epoch 59/100\n",
            "240/240 [==============================] - 9s 36ms/step - loss: 0.9594 - accuracy: 0.6631\n",
            "Epoch 60/100\n",
            "240/240 [==============================] - 9s 36ms/step - loss: 0.9597 - accuracy: 0.6651\n",
            "Epoch 61/100\n",
            "240/240 [==============================] - 9s 36ms/step - loss: 0.9537 - accuracy: 0.6665\n",
            "Epoch 62/100\n",
            "240/240 [==============================] - 9s 36ms/step - loss: 0.9533 - accuracy: 0.6626\n",
            "Epoch 63/100\n",
            "240/240 [==============================] - 9s 36ms/step - loss: 0.9504 - accuracy: 0.6661\n",
            "Epoch 64/100\n",
            "240/240 [==============================] - 9s 36ms/step - loss: 0.9508 - accuracy: 0.6634\n",
            "Epoch 65/100\n",
            "240/240 [==============================] - 9s 36ms/step - loss: 0.9473 - accuracy: 0.6647\n",
            "Epoch 66/100\n",
            "240/240 [==============================] - 9s 36ms/step - loss: 0.9451 - accuracy: 0.6624\n",
            "Epoch 67/100\n",
            "240/240 [==============================] - 9s 36ms/step - loss: 0.9447 - accuracy: 0.6634\n",
            "Epoch 68/100\n",
            "240/240 [==============================] - 9s 36ms/step - loss: 0.9428 - accuracy: 0.6629\n",
            "Epoch 69/100\n",
            "240/240 [==============================] - 9s 36ms/step - loss: 0.9383 - accuracy: 0.6651\n",
            "Epoch 70/100\n",
            "240/240 [==============================] - 9s 36ms/step - loss: 0.9374 - accuracy: 0.6615\n",
            "Epoch 71/100\n",
            "240/240 [==============================] - 9s 36ms/step - loss: 0.9378 - accuracy: 0.6625\n",
            "Epoch 72/100\n",
            "240/240 [==============================] - 9s 36ms/step - loss: 0.9335 - accuracy: 0.6655\n",
            "Epoch 73/100\n",
            "240/240 [==============================] - 9s 36ms/step - loss: 0.9337 - accuracy: 0.6630\n",
            "Epoch 74/100\n",
            "240/240 [==============================] - 9s 36ms/step - loss: 0.9293 - accuracy: 0.6631\n",
            "Epoch 75/100\n",
            "240/240 [==============================] - 9s 36ms/step - loss: 0.9277 - accuracy: 0.6630\n",
            "Epoch 76/100\n",
            "240/240 [==============================] - 9s 36ms/step - loss: 0.9247 - accuracy: 0.6655\n",
            "Epoch 77/100\n",
            "240/240 [==============================] - 9s 36ms/step - loss: 0.9241 - accuracy: 0.6646\n",
            "Epoch 78/100\n",
            "240/240 [==============================] - 9s 36ms/step - loss: 0.9214 - accuracy: 0.6680\n",
            "Epoch 79/100\n",
            "240/240 [==============================] - 9s 36ms/step - loss: 0.9191 - accuracy: 0.6677\n",
            "Epoch 80/100\n",
            "240/240 [==============================] - 9s 36ms/step - loss: 0.9165 - accuracy: 0.6643\n",
            "Epoch 81/100\n",
            "240/240 [==============================] - 9s 36ms/step - loss: 0.9164 - accuracy: 0.6651\n",
            "Epoch 82/100\n",
            "240/240 [==============================] - 9s 36ms/step - loss: 0.9157 - accuracy: 0.6634\n",
            "Epoch 83/100\n",
            "240/240 [==============================] - 9s 36ms/step - loss: 0.9130 - accuracy: 0.6688\n",
            "Epoch 84/100\n",
            "240/240 [==============================] - 9s 36ms/step - loss: 0.9098 - accuracy: 0.6681\n",
            "Epoch 85/100\n",
            "240/240 [==============================] - 9s 36ms/step - loss: 0.9087 - accuracy: 0.6665\n",
            "Epoch 86/100\n",
            "240/240 [==============================] - 9s 36ms/step - loss: 0.9072 - accuracy: 0.6664\n",
            "Epoch 87/100\n",
            "240/240 [==============================] - 9s 36ms/step - loss: 0.9071 - accuracy: 0.6681\n",
            "Epoch 88/100\n",
            "240/240 [==============================] - 9s 36ms/step - loss: 0.9036 - accuracy: 0.6652\n",
            "Epoch 89/100\n",
            "240/240 [==============================] - 9s 36ms/step - loss: 0.9015 - accuracy: 0.6672\n",
            "Epoch 90/100\n",
            "240/240 [==============================] - 9s 36ms/step - loss: 0.9137 - accuracy: 0.6686\n",
            "Epoch 91/100\n",
            "240/240 [==============================] - 9s 36ms/step - loss: 0.9807 - accuracy: 0.6491\n",
            "Epoch 92/100\n",
            "240/240 [==============================] - 9s 36ms/step - loss: 0.9403 - accuracy: 0.6609\n",
            "Epoch 93/100\n",
            "240/240 [==============================] - 9s 36ms/step - loss: 0.9101 - accuracy: 0.6674\n",
            "Epoch 94/100\n",
            "240/240 [==============================] - 9s 36ms/step - loss: 0.8905 - accuracy: 0.6689\n",
            "Epoch 95/100\n",
            "240/240 [==============================] - 9s 36ms/step - loss: 0.8867 - accuracy: 0.6659\n",
            "Epoch 96/100\n",
            "240/240 [==============================] - 9s 36ms/step - loss: 0.8841 - accuracy: 0.6690\n",
            "Epoch 97/100\n",
            "240/240 [==============================] - 9s 36ms/step - loss: 0.8849 - accuracy: 0.6694\n",
            "Epoch 98/100\n",
            "240/240 [==============================] - 9s 36ms/step - loss: 0.8843 - accuracy: 0.6667\n",
            "Epoch 99/100\n",
            "240/240 [==============================] - 9s 37ms/step - loss: 0.8840 - accuracy: 0.6674\n",
            "Epoch 100/100\n",
            "240/240 [==============================] - 9s 36ms/step - loss: 0.8834 - accuracy: 0.6697\n"
          ],
          "name": "stdout"
        },
        {
          "output_type": "execute_result",
          "data": {
            "text/plain": [
              "<tensorflow.python.keras.callbacks.History at 0x7fd5e01fd828>"
            ]
          },
          "metadata": {
            "tags": []
          },
          "execution_count": 94
        }
      ]
    },
    {
      "cell_type": "markdown",
      "metadata": {},
      "source": [
        "# 모델 실행 함수 정의"
      ]
    },
    {
      "cell_type": "code",
      "metadata": {
        "id": "bUHuqsPbuNcX",
        "colab_type": "code",
        "colab": {}
      },
      "source": [
        "# 모델실행 함수\n",
        "def sentence_generation(model, cw, n):\n",
        "    initWord = cw # 시작단어 \n",
        "    sentence = ''\n",
        "    for _ in range(n): # 10번 반복한다  _ :10번 반복 하는 동안 값을 받는 변수가 없다.\n",
        "        x = [charDic[c] for c in cw]\n",
        "        x = pad_sequences([x], maxlen=6, padding='pre')\n",
        "        # print(x) #[2] ->-[0 0 0 0 0 2]\n",
        "        result = model.predict_classes(x)\n",
        "        # print(result) #[3] ==word_index[3]의 index\n",
        "        for i,w in enumerate(charSet):\n",
        "            if i+1==result[0]:\n",
        "              cw=cw+w\n",
        "              sentence = sentence+w\n",
        "              break\n",
        "    return initWord+sentence\n",
        "\n",
        "# 동 4 / 스마일 2 / 보라 3 / 슈퍼 3 / 러블리 3 / 큐티 3 / 달달 2 / 짱구 5 / 쥬 5"
      ],
      "execution_count": 102,
      "outputs": []
    },
    {
      "cell_type": "markdown",
      "metadata": {
        "colab": {},
        "colab_type": "code",
        "id": "czj_zjPR2GBg"
      },
      "source": [
        "# 모델테스트"
      ]
    },
    {
      "cell_type": "code",
      "metadata": {
        "id": "g3dudE5TBtBD",
        "colab_type": "code",
        "colab": {
          "base_uri": "https://localhost:8080/",
          "height": 35
        },
        "outputId": "09d321a7-e91b-4f75-d665-6b95e7613655"
      },
      "source": [
        "sentence_generation(model,'배', 3)"
      ],
      "execution_count": 139,
      "outputs": [
        {
          "output_type": "execute_result",
          "data": {
            "application/vnd.google.colaboratory.intrinsic+json": {
              "type": "string"
            },
            "text/plain": [
              "'배지밀리'"
            ]
          },
          "metadata": {
            "tags": []
          },
          "execution_count": 139
        }
      ]
    },
    {
      "cell_type": "code",
      "metadata": {
        "id": "STEhElra2Sgf",
        "colab_type": "code",
        "colab": {
          "base_uri": "https://localhost:8080/",
          "height": 35
        },
        "outputId": "cfae85ca-6cfc-4585-ac0e-19ec3069967d"
      },
      "source": [
        "sentence_generation(model,'스마일', 2)"
      ],
      "execution_count": 140,
      "outputs": [
        {
          "output_type": "execute_result",
          "data": {
            "application/vnd.google.colaboratory.intrinsic+json": {
              "type": "string"
            },
            "text/plain": [
              "'스마일루씨'"
            ]
          },
          "metadata": {
            "tags": []
          },
          "execution_count": 140
        }
      ]
    },
    {
      "cell_type": "code",
      "metadata": {
        "id": "eTaJcNzl2W_3",
        "colab_type": "code",
        "colab": {
          "base_uri": "https://localhost:8080/",
          "height": 35
        },
        "outputId": "3323f802-3c74-4ba9-f61d-3d01b700224a"
      },
      "source": [
        "sentence_generation(model,'짱구', 4)"
      ],
      "execution_count": 143,
      "outputs": [
        {
          "output_type": "execute_result",
          "data": {
            "application/vnd.google.colaboratory.intrinsic+json": {
              "type": "string"
            },
            "text/plain": [
              "'짱구와울라쑝'"
            ]
          },
          "metadata": {
            "tags": []
          },
          "execution_count": 143
        }
      ]
    },
    {
      "cell_type": "code",
      "metadata": {
        "id": "H4ZwdYux2doI",
        "colab_type": "code",
        "colab": {
          "base_uri": "https://localhost:8080/",
          "height": 35
        },
        "outputId": "af661cae-bd2f-4209-bf3c-4af6fe127f2f"
      },
      "source": [
        "sentence_generation(model,'귤', 4)"
      ],
      "execution_count": 144,
      "outputs": [
        {
          "output_type": "execute_result",
          "data": {
            "application/vnd.google.colaboratory.intrinsic+json": {
              "type": "string"
            },
            "text/plain": [
              "'귤공주장군'"
            ]
          },
          "metadata": {
            "tags": []
          },
          "execution_count": 144
        }
      ]
    },
    {
      "cell_type": "code",
      "metadata": {
        "id": "wTUo-SZp2hu-",
        "colab_type": "code",
        "colab": {
          "base_uri": "https://localhost:8080/",
          "height": 35
        },
        "outputId": "54d45444-7ff0-42e3-ce79-7101a791fca1"
      },
      "source": [
        "sentence_generation(model,'슝', 4)"
      ],
      "execution_count": 145,
      "outputs": [
        {
          "output_type": "execute_result",
          "data": {
            "application/vnd.google.colaboratory.intrinsic+json": {
              "type": "string"
            },
            "text/plain": [
              "'슝기다림스'"
            ]
          },
          "metadata": {
            "tags": []
          },
          "execution_count": 145
        }
      ]
    },
    {
      "cell_type": "code",
      "metadata": {
        "id": "EokhFfy82l6_",
        "colab_type": "code",
        "colab": {
          "base_uri": "https://localhost:8080/",
          "height": 35
        },
        "outputId": "9e5ee259-2116-4298-c65d-b4f10dbdd96e"
      },
      "source": [
        "sentence_generation(model,'댕', 4)"
      ],
      "execution_count": 165,
      "outputs": [
        {
          "output_type": "execute_result",
          "data": {
            "application/vnd.google.colaboratory.intrinsic+json": {
              "type": "string"
            },
            "text/plain": [
              "'댕청흰둥이'"
            ]
          },
          "metadata": {
            "tags": []
          },
          "execution_count": 165
        }
      ]
    },
    {
      "cell_type": "code",
      "metadata": {
        "id": "oJdce_kT2-6W",
        "colab_type": "code",
        "colab": {
          "base_uri": "https://localhost:8080/",
          "height": 35
        },
        "outputId": "618a88d9-67d4-4350-b2a0-9777cc325508"
      },
      "source": [
        "sentence_generation(model,'묭', 3)"
      ],
      "execution_count": 158,
      "outputs": [
        {
          "output_type": "execute_result",
          "data": {
            "application/vnd.google.colaboratory.intrinsic+json": {
              "type": "string"
            },
            "text/plain": [
              "'묭기다림'"
            ]
          },
          "metadata": {
            "tags": []
          },
          "execution_count": 158
        }
      ]
    },
    {
      "cell_type": "code",
      "metadata": {
        "id": "_ehCmWIr3FCe",
        "colab_type": "code",
        "colab": {
          "base_uri": "https://localhost:8080/",
          "height": 35
        },
        "outputId": "31e214c7-c373-4568-d540-8dda66ca27cc"
      },
      "source": [
        "sentence_generation(model,'밍', 4)"
      ],
      "execution_count": 164,
      "outputs": [
        {
          "output_type": "execute_result",
          "data": {
            "application/vnd.google.colaboratory.intrinsic+json": {
              "type": "string"
            },
            "text/plain": [
              "'밍이의더밍'"
            ]
          },
          "metadata": {
            "tags": []
          },
          "execution_count": 164
        }
      ]
    },
    {
      "cell_type": "code",
      "metadata": {
        "id": "D5odIxueuPTc",
        "colab_type": "code",
        "colab": {}
      },
      "source": [
        "# 6. 모델 저장하기\n",
        "from keras.models import load_model\n",
        "model.save('knick_model3.h5')"
      ],
      "execution_count": 167,
      "outputs": []
    }
  ]
}