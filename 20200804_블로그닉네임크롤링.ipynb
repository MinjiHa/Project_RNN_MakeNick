{
 "metadata": {
  "language_info": {
   "codemirror_mode": {
    "name": "ipython",
    "version": 3
   },
   "file_extension": ".py",
   "mimetype": "text/x-python",
   "name": "python",
   "nbconvert_exporter": "python",
   "pygments_lexer": "ipython3",
   "version": 3
  },
  "orig_nbformat": 2,
  "kernelspec": {
   "name": "python_defaultSpec_1596523702403",
   "display_name": "Python 3.7.7 64-bit"
  }
 },
 "nbformat": 4,
 "nbformat_minor": 2,
 "cells": [
  {
   "cell_type": "code",
   "execution_count": 16,
   "metadata": {},
   "outputs": [],
   "source": [
    "from selenium import webdriver\n",
    "from bs4 import BeautifulSoup\n",
    "from urllib.request import Request, urlopen\n",
    "from selenium.webdriver.common.keys import Keys\n",
    "import html5lib\n",
    "import time\n",
    "from tqdm.notebook import tqdm\n",
    "from selenium.common.exceptions import NoSuchElementException\n",
    "import pandas as pd\n",
    "import numpy as np"
   ]
  },
  {
   "cell_type": "code",
   "execution_count": null,
   "metadata": {},
   "outputs": [],
   "source": [
    "# options = webdriver.ChromeOptions()\n",
    "# options.add_argument('headless')    # 웹 브라우저를 띄우지 않는 headless chrome 옵션 적용\n",
    "# options.add_argument('disable-gpu')    # GPU 사용 안함\n",
    "# options.add_argument('lang=ko_KR')    # 언어 설정, options=options\n",
    "# driver = webdriver.Chrome('chromedriver', options=options)"
   ]
  },
  {
   "cell_type": "markdown",
   "metadata": {},
   "source": [
    "# 네이버 블로그 닉네임 크롤링"
   ]
  },
  {
   "cell_type": "code",
   "execution_count": 36,
   "metadata": {
    "tags": []
   },
   "outputs": [
    {
     "output_type": "stream",
     "name": "stdout",
     "text": "gato\n꿈꾸는고냥\n종지\n종지와 연서의 행복한 일상\n호두알범\n호두알범\n안시댁\n안시댁의 프랑스 생활기\n윰미\n윰미의 신나는 일상 ♪\n신녀성\n당신이 경험하지 못한 여성\n듀듀\n듀듀크러쉬\n생숭이\n뷰스타생숭이의 예쁠공간 예쁜공감:0\n소이윰\n소소한이야기윰\n동탄의롱페이스\n동탄의롱페이스\n라뷰라뷰\n패션,뷰티 블로거의 소소한 일상 이야기\n성주맘\n성주는 즐거워~~\n별아하늘\n믿음이 없이는\n알라\n알라월드\n"
    },
    {
     "output_type": "execute_result",
     "data": {
      "text/plain": "[]"
     },
     "metadata": {},
     "execution_count": 36
    }
   ],
   "source": [
    "driver = webdriver.Chrome('chromedriver')\n",
    "\n",
    "nicks =[]\n",
    "for i in range(0,2):\n",
    "\n",
    "    try:\n",
    "        #페이지\n",
    "        Url = 'https://section.blog.naver.com/HotTopic.nhn?seq=724446&orderBy=sim&currentPage=%d' %(i+1)\n",
    "        driver.get(Url)\n",
    "        time.sleep(0.5)\n",
    "\n",
    "        for j in range(1,8):\n",
    "            # 닉네임 가져오기\n",
    "            a = driver.find_element_by_xpath('//*[@id=\"wrap_search_list\"]/div[2]/div[%d]/div/div[1]/a/em' %j).text\n",
    "            # 블로그제목 가져오기\n",
    "            b = driver.find_element_by_xpath('//*[@id=\"wrap_search_list\"]/div[2]/div[%d]/div/div[1]/span' %j).text\n",
    "            # a = a.replace('\\n','')\n",
    "            # a = a.replace('#','')\n",
    "            # nicks.append([a,b])\n",
    "            print(a)\n",
    "            print(b)\n",
    "\n",
    "    except NoSuchElementException:\n",
    "        driver.get(\"https://section.blog.naver.com/HotTopic.nhn?seq=724446\")\n",
    "\n",
    "# df = pd.DataFrame(result.items(), columns = ['movie_id' , 'reviews'])\n",
    "# df.to_csv('result_1.csv', index =False, encoding=\"UTF-8-sig\")\n",
    "nicks"
   ]
  },
  {
   "cell_type": "code",
   "execution_count": 33,
   "metadata": {},
   "outputs": [
    {
     "output_type": "execute_result",
     "data": {
      "text/plain": "3437"
     },
     "metadata": {},
     "execution_count": 33
    }
   ],
   "source": [
    "len(nicks)"
   ]
  },
  {
   "cell_type": "code",
   "execution_count": 35,
   "metadata": {},
   "outputs": [],
   "source": [
    "df = pd.DataFrame(nicks, columns = ['닉네임' , '블로그이름'])\n",
    "df.to_csv('nick_1.csv', index =False, encoding=\"UTF-8-sig\")"
   ]
  }
 ]
}